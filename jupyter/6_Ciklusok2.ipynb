{
 "cells": [
  {
   "cell_type": "markdown",
   "metadata": {},
   "source": [
    "### 6. Ciklusok II: a for ciklus"
   ]
  },
  {
   "cell_type": "markdown",
   "metadata": {},
   "source": [
    "A __for__ ciklust akkor használjuk, ha egy szekvencia (lista vagy sztring) elemein szeretnénk sorban végigmenni és mindegyikkel ugyanazt a műveletsort elvégezni. Az alábbi példa kiírja egy lista minden elemét:"
   ]
  },
  {
   "cell_type": "code",
   "execution_count": null,
   "metadata": {
    "collapsed": true
   },
   "outputs": [],
   "source": [
    "weasleyk = ['Bill', 'Charlie', 'Percy', 'Fred', 'George', 'Ron', 'Ginny']"
   ]
  },
  {
   "cell_type": "code",
   "execution_count": null,
   "metadata": {
    "collapsed": false
   },
   "outputs": [],
   "source": [
    "for nev in weasleyk:\n",
    "    print(nev)"
   ]
  },
  {
   "cell_type": "markdown",
   "metadata": {},
   "source": [
    "A __for__ szót mindig egy új változónév követi: ez adja meg, hogy a cikluson belül hogyan fogjuk hívni az éppen aktuális elemét a listának/sztringnek. Ezután az __in__ szó következik, majd az a lista vagy sztring, aminek az elemeit végigjárjuk, végül egy kettőspont. A ciklusba tartozó parancsokat itt is indentálva (beljebb kezdve) írjuk. Az alábbi függvény egy listának az elemein megy végig, és mindnek kiírja a hosszát:"
   ]
  },
  {
   "cell_type": "code",
   "execution_count": null,
   "metadata": {
    "collapsed": false
   },
   "outputs": [],
   "source": [
    "def elem_hossz(lista):\n",
    "    for elem in lista:\n",
    "        print(len(elem))"
   ]
  },
  {
   "cell_type": "code",
   "execution_count": null,
   "metadata": {
    "collapsed": false
   },
   "outputs": [],
   "source": [
    "elem_hossz(weasleyk)"
   ]
  },
  {
   "cell_type": "markdown",
   "metadata": {},
   "source": [
    "De ugyanígy írhatnánk egy olyan függvényt is, ami egy listában szereplő neveknek mindig csak a kezdőbetűjét írja ki:"
   ]
  },
  {
   "cell_type": "code",
   "execution_count": null,
   "metadata": {
    "collapsed": true
   },
   "outputs": [],
   "source": [
    "def kezdobetuk(lista):\n",
    "    for elem in lista:\n",
    "        print(elem[0])"
   ]
  },
  {
   "cell_type": "code",
   "execution_count": null,
   "metadata": {
    "collapsed": false
   },
   "outputs": [],
   "source": [
    "kezdobetuk(weasleyk)"
   ]
  },
  {
   "cell_type": "markdown",
   "metadata": {},
   "source": [
    "Módosíthatjuk ezeket a függvényeket úgy, hogy ne kiírják a hosszokat vagy kezdőbetűket, hanem új listába gyűjtsék őket, amiket a végén visszaadnak:"
   ]
  },
  {
   "cell_type": "code",
   "execution_count": null,
   "metadata": {
    "collapsed": true
   },
   "outputs": [],
   "source": [
    "def elem_hossz(lista):\n",
    "    hosszok = []\n",
    "    for elem in lista:\n",
    "        hosszok.append(len(elem))\n",
    "    return hosszok"
   ]
  },
  {
   "cell_type": "code",
   "execution_count": null,
   "metadata": {
    "collapsed": false
   },
   "outputs": [],
   "source": [
    "elem_hossz(weasleyk)"
   ]
  },
  {
   "cell_type": "code",
   "execution_count": null,
   "metadata": {
    "collapsed": true
   },
   "outputs": [],
   "source": [
    "def kezdobetuk(lista):\n",
    "    betuk = []\n",
    "    for elem in lista:\n",
    "        betuk.append(elem[0])\n",
    "    return betuk"
   ]
  },
  {
   "cell_type": "code",
   "execution_count": null,
   "metadata": {
    "collapsed": false
   },
   "outputs": [],
   "source": [
    "kezdobetuk(weasleyk)"
   ]
  },
  {
   "cell_type": "markdown",
   "metadata": {},
   "source": [
    "Nézzünk most példákat egy valódi adattal! A _pontok_ lista az 1. ZH-n szerzett pontszámokat tartalmazza:"
   ]
  },
  {
   "cell_type": "code",
   "execution_count": null,
   "metadata": {
    "collapsed": false
   },
   "outputs": [],
   "source": [
    "pontok = [13, 13, 9, 12, 13, 8, 10, 13, 13, 12, 7, 5, 11, 12, 14, 14, 3, 13, 14, 12, 15, 8, 14, 14, 14, 15, 15, 15, 6, 13, 12, 14, 14]"
   ]
  },
  {
   "cell_type": "markdown",
   "metadata": {},
   "source": [
    "Először írjunk egy függvényt, ami kiszámolja a pontok átlagát!"
   ]
  },
  {
   "cell_type": "code",
   "execution_count": null,
   "metadata": {
    "collapsed": true
   },
   "outputs": [],
   "source": [
    "def atlag(lista):\n",
    "    osszeg = 0\n",
    "    darabszam = 0\n",
    "    for szam in lista:\n",
    "        darabszam += 1\n",
    "        osszeg += szam\n",
    "    return osszeg / darabszam    "
   ]
  },
  {
   "cell_type": "code",
   "execution_count": null,
   "metadata": {
    "collapsed": false
   },
   "outputs": [],
   "source": [
    "atlag(pontok)"
   ]
  },
  {
   "cell_type": "markdown",
   "metadata": {},
   "source": [
    "Ezt egyébként lehet sokkal egyszerűbben, két beépített függvénnyel:"
   ]
  },
  {
   "cell_type": "code",
   "execution_count": null,
   "metadata": {
    "collapsed": true
   },
   "outputs": [],
   "source": [
    "def atlag(lista):\n",
    "    return sum(lista) / len(lista)"
   ]
  },
  {
   "cell_type": "code",
   "execution_count": null,
   "metadata": {
    "collapsed": false
   },
   "outputs": [],
   "source": [
    "atlag(pontok)"
   ]
  },
  {
   "cell_type": "markdown",
   "metadata": {},
   "source": [
    "Egy másik függvény átszámolhatja a pontokat százalékba:"
   ]
  },
  {
   "cell_type": "code",
   "execution_count": null,
   "metadata": {
    "collapsed": true
   },
   "outputs": [],
   "source": [
    "def szazalekosan(lista, maxpont):\n",
    "    uj_lista = []\n",
    "    for szam in lista:\n",
    "        szazalek = 100*(szam/maxpont)\n",
    "        uj_lista.append(szazalek)\n",
    "    return uj_lista"
   ]
  },
  {
   "cell_type": "code",
   "execution_count": null,
   "metadata": {
    "collapsed": false
   },
   "outputs": [],
   "source": [
    "szazalekosan(pontok, 15)"
   ]
  },
  {
   "cell_type": "markdown",
   "metadata": {},
   "source": [
    "Ezekből már nagyon egyszerűen kiszámolható a százalékok átlaga is:"
   ]
  },
  {
   "cell_type": "code",
   "execution_count": null,
   "metadata": {
    "collapsed": false
   },
   "outputs": [],
   "source": [
    "atlag(szazalekosan(pontok, 15))"
   ]
  },
  {
   "cell_type": "markdown",
   "metadata": {},
   "source": [
    "Átszámolhatnánk a százalékokat osztályzatokra is. Először írjunk egy függvényt, ami megmondja egy százalékról, hogy milyen jegyet ér:"
   ]
  },
  {
   "cell_type": "code",
   "execution_count": null,
   "metadata": {
    "collapsed": true
   },
   "outputs": [],
   "source": [
    "def ponthatar(szazalek):\n",
    "    if szazalek >= 80:\n",
    "        return 5\n",
    "    elif szazalek >= 70:\n",
    "        return 4\n",
    "    elif szazalek >= 60:\n",
    "        return 3\n",
    "    elif szazalek >= 50:\n",
    "        return 2\n",
    "    else:\n",
    "        return 1"
   ]
  },
  {
   "cell_type": "markdown",
   "metadata": {},
   "source": [
    "Ekkor az alábbi függvény egy listában szereplő össze százalékot átszámolja:"
   ]
  },
  {
   "cell_type": "code",
   "execution_count": null,
   "metadata": {
    "collapsed": true
   },
   "outputs": [],
   "source": [
    "def jegyeket(lista):\n",
    "    uj_lista = []\n",
    "    for szazalek in lista:\n",
    "        jegy = ponthatar(szazalek)\n",
    "        uj_lista.append(jegy)\n",
    "    return uj_lista"
   ]
  },
  {
   "cell_type": "code",
   "execution_count": null,
   "metadata": {
    "collapsed": false
   },
   "outputs": [],
   "source": [
    "jegyeket(szazalekosan(pontok, 15))"
   ]
  },
  {
   "cell_type": "markdown",
   "metadata": {},
   "source": [
    "És így már könnyen számolható a hagyományos átlag is:"
   ]
  },
  {
   "cell_type": "code",
   "execution_count": null,
   "metadata": {
    "collapsed": false
   },
   "outputs": [],
   "source": [
    "atlag(jegyeket(szazalekosan(pontok, 15)))"
   ]
  },
  {
   "cell_type": "markdown",
   "metadata": {},
   "source": [
    "Töltsünk most be egy nagyobb adatot (ezt a sort most nem kell érteni):"
   ]
  },
  {
   "cell_type": "code",
   "execution_count": null,
   "metadata": {
    "collapsed": false
   },
   "outputs": [],
   "source": [
    "filmek = [line.strip().split('\\t') for line in open('data/movies.tsv')]"
   ]
  },
  {
   "cell_type": "markdown",
   "metadata": {},
   "source": [
    "Ez a lista egy filmadatbázis egy kis részlete. Minden eleme egy háromelemű lista, amely egy-egy filmről tartalmaz információt: a címet, a megjelenés évét, és a műfaj(oka)t. Nézzük meg a legelső \"sorát\", vagyis a lista első elemét:"
   ]
  },
  {
   "cell_type": "code",
   "execution_count": null,
   "metadata": {
    "collapsed": false
   },
   "outputs": [],
   "source": [
    "filmek[0]"
   ]
  },
  {
   "cell_type": "markdown",
   "metadata": {},
   "source": [
    "Most pedig írjunk egy olyan függvényt, ami kiírja az összes gyerekfilmet (\"children\" műfaj)!"
   ]
  },
  {
   "cell_type": "code",
   "execution_count": null,
   "metadata": {
    "collapsed": true
   },
   "outputs": [],
   "source": [
    "def gyerekfilmek(adat):\n",
    "    for film in adat:\n",
    "        mufajok = film[2].split(',')\n",
    "        if 'children' in mufajok:\n",
    "            filmcim = film[0]\n",
    "            print(filmcim)"
   ]
  },
  {
   "cell_type": "code",
   "execution_count": null,
   "metadata": {
    "collapsed": false
   },
   "outputs": [],
   "source": [
    "gyerekfilmek(filmek)"
   ]
  },
  {
   "cell_type": "markdown",
   "metadata": {},
   "source": [
    "Ezt a függvényt is módosítsuk úgy, hogy ne kiírja a filmeket, hanem egy listában adja őket vissza!"
   ]
  },
  {
   "cell_type": "code",
   "execution_count": null,
   "metadata": {
    "collapsed": true
   },
   "outputs": [],
   "source": [
    "def gyerekfilmek(adat):\n",
    "    kimenet = []\n",
    "    for film in adat:\n",
    "        mufajok = film[2].split(',')\n",
    "        if 'children' in mufajok:\n",
    "            filmcim = film[0]\n",
    "            kimenet.append(filmcim)\n",
    "    return kimenet"
   ]
  },
  {
   "cell_type": "code",
   "execution_count": null,
   "metadata": {
    "collapsed": false
   },
   "outputs": [],
   "source": [
    "gyerekfilmek(filmek)"
   ]
  },
  {
   "cell_type": "markdown",
   "metadata": {},
   "source": [
    "A __continue__ és __break__ parancsok ugyanúgy működnek itt is, mint a __while__ ciklusok esetében. A fenti függvényt átírhatjuk úgy, hogy a __continue__ paranccsal ugorja át azokat a filmeket, amik nem gyerekfilmek:"
   ]
  },
  {
   "cell_type": "code",
   "execution_count": null,
   "metadata": {
    "collapsed": true
   },
   "outputs": [],
   "source": [
    "def gyerekfilmek(adat):\n",
    "    kimenet = []\n",
    "    for film in adat:\n",
    "        mufajok = film[2].split(',')\n",
    "        if 'children' not in mufajok:\n",
    "            continue\n",
    "        filmcim = film[0]\n",
    "        kimenet.append(filmcim)\n",
    "    return kimenet"
   ]
  },
  {
   "cell_type": "code",
   "execution_count": null,
   "metadata": {
    "collapsed": false
   },
   "outputs": [],
   "source": [
    "gyerekfilmek(filmek)"
   ]
  },
  {
   "cell_type": "markdown",
   "metadata": {},
   "source": [
    "A __break__ parancs pedig akkor hasznos, ha a __for__ ciklussal csak addig akarunk elmenni, amíg valamit meg nem találunk. Például az alábbi függvény megkeresi a listában az első thrillert, kiírja a címét, majd megáll:"
   ]
  },
  {
   "cell_type": "code",
   "execution_count": null,
   "metadata": {
    "collapsed": true
   },
   "outputs": [],
   "source": [
    "def elso_thriller(adat):\n",
    "    for film in adat:\n",
    "        mufajok = film[2].split(',')\n",
    "        if 'thriller' in mufajok:\n",
    "            print(film[0])\n",
    "            break"
   ]
  },
  {
   "cell_type": "code",
   "execution_count": null,
   "metadata": {
    "collapsed": false
   },
   "outputs": [],
   "source": [
    "elso_thriller(filmek)"
   ]
  },
  {
   "cell_type": "markdown",
   "metadata": {},
   "source": [
    "Végül írjunk egy általánosabb függvényt: lehessen megadni, hogy milyen műfajú filmeket szeretnénk kigyűjteni, és hányat:"
   ]
  },
  {
   "cell_type": "code",
   "execution_count": null,
   "metadata": {
    "collapsed": true
   },
   "outputs": [],
   "source": [
    "def mufaj_valogato(adat, mufaj, darabszam):\n",
    "    kimenet = []\n",
    "    szamolo = 0\n",
    "    for film in adat:\n",
    "        mufajok = film[2].split(',')\n",
    "        if mufaj in mufajok:\n",
    "            kimenet.append(film[0])\n",
    "            szamolo += 1\n",
    "            if szamolo == darabszam:\n",
    "                break\n",
    "    return kimenet"
   ]
  },
  {
   "cell_type": "code",
   "execution_count": null,
   "metadata": {
    "collapsed": false
   },
   "outputs": [],
   "source": [
    "mufaj_valogato(filmek, 'drama', 5)"
   ]
  },
  {
   "cell_type": "markdown",
   "metadata": {},
   "source": [
    "Végül egy hasznos parancs: a __range__, ami előállít egy olyan listát, amiben a pozitív egész számok vannak valameddig. Ezt szoktuk használni akkor, ha a számokon akarunk végigmenni:"
   ]
  },
  {
   "cell_type": "code",
   "execution_count": null,
   "metadata": {
    "collapsed": false
   },
   "outputs": [],
   "source": [
    "for i in range(5):\n",
    "    print(i)"
   ]
  },
  {
   "cell_type": "markdown",
   "metadata": {},
   "source": [
    "Ez többek között ad egy új módszert arra, hogy végigmenjünk egy lista elemein, ráadásul mindig fogjuk tudni, hogy hanyadik elemnél járunk. Az alábbi függvény például az első 5 filmet írja ki:"
   ]
  },
  {
   "cell_type": "code",
   "execution_count": null,
   "metadata": {
    "collapsed": false
   },
   "outputs": [],
   "source": [
    "for i in range(len(filmek)):\n",
    "    print(i, filmek[i])\n",
    "    if i > 4:\n",
    "        break"
   ]
  },
  {
   "cell_type": "markdown",
   "metadata": {},
   "source": [
    "Ugyanez még rövidebben:"
   ]
  },
  {
   "cell_type": "code",
   "execution_count": null,
   "metadata": {
    "collapsed": false
   },
   "outputs": [],
   "source": [
    "for i in range(5):\n",
    "    print(i, filmek[i])"
   ]
  },
  {
   "cell_type": "markdown",
   "metadata": {},
   "source": [
    "Végül egy hasznos trükk: mivel nagyon gyakran használunk for ciklust arra, hogy egy listából előállítsunk egy másikat, erre van egy rövidebb leírási mód is, a neve __list comprehension__. Például az alábbi sor előállítja azt a listát, amiben minden 0 és 9 közti számnak a kétszerese szerepel:"
   ]
  },
  {
   "cell_type": "code",
   "execution_count": null,
   "metadata": {
    "collapsed": false
   },
   "outputs": [],
   "source": [
    "[2*i for i in range(10)]"
   ]
  },
  {
   "cell_type": "markdown",
   "metadata": {},
   "source": [
    "Vagy ha a filmcímek listáját szeretnénk előállítani:"
   ]
  },
  {
   "cell_type": "code",
   "execution_count": null,
   "metadata": {
    "collapsed": false
   },
   "outputs": [],
   "source": [
    "[film[0] for film in filmek]"
   ]
  },
  {
   "cell_type": "markdown",
   "metadata": {},
   "source": [
    "A list comprehension-be még egy if-es feltételt is megadhatunk, hogy ezzel szűrjük, mi kerül az új listába. Például így állítanánk elő csak a P betűs filmeket:"
   ]
  },
  {
   "cell_type": "code",
   "execution_count": null,
   "metadata": {
    "collapsed": true
   },
   "outputs": [],
   "source": [
    "def p_betus(adat):\n",
    "    return [film[0] for film in adat if film[0][0] == \"P\"]"
   ]
  },
  {
   "cell_type": "code",
   "execution_count": null,
   "metadata": {
    "collapsed": false
   },
   "outputs": [],
   "source": [
    "p_betus(filmek)"
   ]
  },
  {
   "cell_type": "markdown",
   "metadata": {},
   "source": [
    "Persze használhatjuk ezt a leírásmódot csak szűrésre, nem kell az adat egy részét \"eldobnunk\" - így jobban fogjuk tudni kombinálni más függvényekkel:"
   ]
  },
  {
   "cell_type": "code",
   "execution_count": null,
   "metadata": {
    "collapsed": false
   },
   "outputs": [],
   "source": [
    "def p_betus(adat):\n",
    "    return [film for film in adat if film[0][0] == \"P\"]"
   ]
  },
  {
   "cell_type": "code",
   "execution_count": null,
   "metadata": {
    "collapsed": false
   },
   "outputs": [],
   "source": [
    "p_betus(filmek)"
   ]
  },
  {
   "cell_type": "markdown",
   "metadata": {},
   "source": [
    "Hasonlóan, a gyerekfilmeket kiválogató függvény így is kinézhet:"
   ]
  },
  {
   "cell_type": "code",
   "execution_count": null,
   "metadata": {
    "collapsed": true
   },
   "outputs": [],
   "source": [
    "def gyerekfilmek(adat):\n",
    "    return [film for film in adat if \"children\" in film[2].split(\",\")]"
   ]
  },
  {
   "cell_type": "code",
   "execution_count": null,
   "metadata": {
    "collapsed": false
   },
   "outputs": [],
   "source": [
    "gyerekfilmek(filmek)"
   ]
  },
  {
   "cell_type": "markdown",
   "metadata": {},
   "source": [
    "És persze ezeket a függvényeket is könnyedén kombinálhatjuk:"
   ]
  },
  {
   "cell_type": "code",
   "execution_count": null,
   "metadata": {
    "collapsed": false
   },
   "outputs": [],
   "source": [
    "gyerekfilmek(p_betus(filmek))"
   ]
  },
  {
   "cell_type": "markdown",
   "metadata": {},
   "source": [
    "Ne feledjük, most is sokkal többet ér, ha a függvényeket általánosabbra írjuk meg. Az alábbi függvénynek már paramétere, hogy milyen kezdőbetűjű filmeket keresünk:"
   ]
  },
  {
   "cell_type": "code",
   "execution_count": null,
   "metadata": {
    "collapsed": true
   },
   "outputs": [],
   "source": [
    "def betu_szerint(adat, betu):\n",
    "    return [film for film in adat if film[0][0] in (betu, betu.upper())]"
   ]
  },
  {
   "cell_type": "markdown",
   "metadata": {},
   "source": [
    "Ez a másik pedig tetszőleges műfajú filmeket kiválogat:"
   ]
  },
  {
   "cell_type": "code",
   "execution_count": null,
   "metadata": {
    "collapsed": true
   },
   "outputs": [],
   "source": [
    "def mufaj_szerint(adat, mufaj):\n",
    "    return [film for film in adat if mufaj in film[2].split(\",\")]"
   ]
  },
  {
   "cell_type": "markdown",
   "metadata": {},
   "source": [
    "Most már bármilyen kombinációt egy pillanat alatt előállíthatunk, például D betűs westerneket:"
   ]
  },
  {
   "cell_type": "code",
   "execution_count": null,
   "metadata": {
    "collapsed": false
   },
   "outputs": [],
   "source": [
    "mufaj_szerint(betu_szerint(filmek, \"d\"), \"western\")"
   ]
  },
  {
   "cell_type": "markdown",
   "metadata": {},
   "source": [
    "Vagy J betűs akciófilmeket:"
   ]
  },
  {
   "cell_type": "code",
   "execution_count": null,
   "metadata": {
    "collapsed": false
   },
   "outputs": [],
   "source": [
    "mufaj_szerint(betu_szerint(filmek, \"j\"), \"action\")"
   ]
  },
  {
   "cell_type": "markdown",
   "metadata": {},
   "source": [
    "__6.1. FELADAT__ Írj olyan függvényt, aminek átadhatunk egy sztringet, és ő kiírja sztring betűit egymás alá!"
   ]
  },
  {
   "cell_type": "code",
   "execution_count": null,
   "metadata": {
    "collapsed": true
   },
   "outputs": [],
   "source": []
  },
  {
   "cell_type": "markdown",
   "metadata": {},
   "source": [
    "__6.2. FELADAT__ Írj olyan függvényt, aminek átadhatunk egy számot, és ő kiírja az összes nála kisebb pozitív számot!"
   ]
  },
  {
   "cell_type": "code",
   "execution_count": null,
   "metadata": {
    "collapsed": true
   },
   "outputs": [],
   "source": []
  },
  {
   "cell_type": "markdown",
   "metadata": {},
   "source": [
    "__6.3a FELADAT__ Írj olyan függvényt, aminek átadhatjuk a \"filmek\" adatot és egy műfajt, ő pedig megszámolja, hogy hány adott műfajú film van az adatban."
   ]
  },
  {
   "cell_type": "code",
   "execution_count": null,
   "metadata": {
    "collapsed": true
   },
   "outputs": [],
   "source": []
  },
  {
   "cell_type": "markdown",
   "metadata": {},
   "source": [
    "__6.3b FELADAT__ A műfajok listáját a _mufajok_ változó tartalmazza. Menj végig az elemein és használd az előző függvényt, hogy minden műfajra kiírd, hány olyan film van a _filmek_ adatban."
   ]
  },
  {
   "cell_type": "code",
   "execution_count": null,
   "metadata": {
    "collapsed": true
   },
   "outputs": [],
   "source": [
    "mufajok = [\n",
    "     'war', 'horror', 'action', 'romance', 'crime', 'musical', 'fantasy', 'animation',\n",
    "     'documentary', 'film_noir', 'mystery', 'adventure', 'drama', 'comedy', 'thriller',\n",
    "     'children', 'sci_fi', 'unknown', 'western']"
   ]
  },
  {
   "cell_type": "code",
   "execution_count": null,
   "metadata": {
    "collapsed": true
   },
   "outputs": [],
   "source": []
  },
  {
   "cell_type": "markdown",
   "metadata": {},
   "source": [
    "__6.4. FELADAT__ Írj olyan függvényt, aminek átadhatjuk a \"filmek\" adatot és egy évszámot, ő pedig egy listában visszadja azokat a filmeket, amik abban az évben készültek!"
   ]
  },
  {
   "cell_type": "code",
   "execution_count": null,
   "metadata": {
    "collapsed": true
   },
   "outputs": [],
   "source": []
  },
  {
   "cell_type": "markdown",
   "metadata": {},
   "source": [
    "__6.5. FELADAT__ Írj egy mufaj_ev_valaszto nevű függvényt, aminek a filmeken kívül egy műfajt és két évszámot adhatunk át, és ő visszaadja a megadott két év között készült, megadott műfajú filmeket. Tehát ha így futtatom: mufaj_ev_valaszto(filmek, \"comedy\", 1986, 1988), akkor az 1986 és 1988 között készült vígjátékokat írja ki!"
   ]
  },
  {
   "cell_type": "code",
   "execution_count": null,
   "metadata": {
    "collapsed": true
   },
   "outputs": [],
   "source": []
  },
  {
   "cell_type": "markdown",
   "metadata": {},
   "source": [
    "__6.6. FELADAT (Pluszpontokért beadható!)__ Írj olyan függvényt, aminek átadhatunk egy listában műfajokat, valamint egy számot, és ő kiírja a legrégebbi olyan filmeket, amiknek a műfaja a megadottak között van, de legfeljebb annyit, amennyi a szám. Tehát ha így futtatjuk: mufaj_ev_novekvo(film, [\"thriller\", \"western\"], 5), akkor írja ki a legrégebbi 5 olyan filmet, ami thriller vagy western (ha nincs 5 ilyen, akkor az összeset)."
   ]
  },
  {
   "cell_type": "code",
   "execution_count": null,
   "metadata": {
    "collapsed": true
   },
   "outputs": [],
   "source": []
  }
 ],
 "metadata": {
  "kernelspec": {
   "display_name": "Python 3",
   "language": "python",
   "name": "python3"
  },
  "language_info": {
   "codemirror_mode": {
    "name": "ipython",
    "version": 3
   },
   "file_extension": ".py",
   "mimetype": "text/x-python",
   "name": "python",
   "nbconvert_exporter": "python",
   "pygments_lexer": "ipython3",
   "version": "3.5.2"
  }
 },
 "nbformat": 4,
 "nbformat_minor": 1
}
