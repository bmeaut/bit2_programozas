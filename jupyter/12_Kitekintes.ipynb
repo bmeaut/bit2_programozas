{
 "cells": [
  {
   "cell_type": "markdown",
   "metadata": {},
   "source": [
    "## 12. Kitekintés: magas és alacsony szintű programozási nyelvek, reprezentációk"
   ]
  },
  {
   "cell_type": "markdown",
   "metadata": {},
   "source": [
    "A Python egy __interpretált__ (interpreted) programozási nyelv. Ez azt jelenti, hogy minden sor kódot, amit írunk, a számítógép azonnal processzorutasításokra (gépi kódra) fordít, ami rögtön végrehajtódik. Ezzel állnak szemben a __fordított__ (compiled) nyelvek, ahol egy kész programot először egy nagy gépi kóddá alakítunk, majd ezt futtatjuk. A fordított nyelvek nagyobb hatékonyságot tesznek lehetővé, de fejlesztésük körülményesebb, gyakran jóval több helyet foglalnak."
   ]
  },
  {
   "cell_type": "markdown",
   "metadata": {},
   "source": [
    "A Python nyelvre azt is mondjuk, __magas szintű programozási nyelv__, ez azt jelenti, hogy a programjaink nem közvetlenül azt mondják meg, hogy a számítógép \"legbelül\" milyen adatokat hozzon létre és azokkal hogyan számoljon, hanem olyan objektumokkal dolgozunk, ami számunkra \"logikusak\", és rábízzuk a Pythonra, hogy ténylegesen hogyan tárolja az adatokat és hogyan számol velük."
   ]
  },
  {
   "cell_type": "markdown",
   "metadata": {},
   "source": [
    "Egy számot például a számítógépek valójában kettes számrendszerben tárolnak. Egy lista pedig nem úgy néz ki, hogy valahol egymás mellett vannak felsorolva különböző objektumok, hanem csak az egyek objektumokra mutató hivatkozások listáját tároljuk. A sztringek karakterek sorozatából állnak, a karakterek pedig végsősoron számok, amik megmondják, hogy egy táblázatból melyik betűt válasszuk ki. Végül minden adatunk \"visszavezethető\" nullák és egyesek sorozatára."
   ]
  },
  {
   "cell_type": "markdown",
   "metadata": {},
   "source": [
    "A régen legtöbbet használt programozási nyelvek (pl. C, Java) a Pythonhoz képes alacsonyabb szintűek és fordítottak, ezért szükség esetén sokkal hatékonyabb, gyorsabb rendszereket lehet velük építeni. Ma már azonban egyre inkább csak ott használják őket, ahol muszáj, mivel nehezebb bennük dolgozni, mint egy nagyon magas szintű és interpretált nyelvben, mint pl. a Python."
   ]
  },
  {
   "cell_type": "markdown",
   "metadata": {},
   "source": [
    "## Számábrázolás, a kettes számrendszer"
   ]
  },
  {
   "cell_type": "markdown",
   "metadata": {},
   "source": [
    "Bármilyen számot le tudunk írni csupa 0 és 1 számjeggyel - ez a __kettes számrendszer__. Míg egy 10-es számrendszerbeli szám - vagyis amilyeneket a mindennapokban használunk -, a 10 különböző hatványaiból (1, 10, 100, 1000, stb.) \"rakja össze\" a mennyiségeket, addig a 2-es számrendszer a 2 hatványaiból (1, 2, 4, 8, 16, 32, 64, 128, 256, 512, 1024). Kettes számrendszerben ezek a \"kerek\" számok, így az informatikában is."
   ]
  },
  {
   "cell_type": "markdown",
   "metadata": {},
   "source": [
    "A számítógép \"belsejében\" a számolás is kettes számrendszerben történik. Nézzük, hogyan adunk össze két számot kettes számrendszerben! Az iskolában tanult írásbeli összeadás a segítségünkre lesz!"
   ]
  },
  {
   "cell_type": "raw",
   "metadata": {},
   "source": [
    "Tízes számrendszerben:\n",
    "3 + 5 = 8\n",
    "\n",
    "Kettes számrendszerben:\n",
    "11 + 101 = 1000\n",
    "\n",
    "  11\n",
    " 101 +\n",
    "----\n",
    "1000"
   ]
  },
  {
   "cell_type": "markdown",
   "metadata": {},
   "source": [
    "A szorzást ugyanígy végigkövethetjük:"
   ]
  },
  {
   "cell_type": "raw",
   "metadata": {},
   "source": [
    "Tízes számrendszerben:\n",
    "3 x 5 = 15\n",
    "\n",
    "Kettes számrendszerben:\n",
    "11 x 101 = 1111\n",
    "\n",
    "101 x 11\n",
    "---\n",
    "1010\n",
    " 101 +\n",
    "----\n",
    "1111"
   ]
  },
  {
   "cell_type": "markdown",
   "metadata": {},
   "source": [
    "Az adat legkisebb egysége tehát a __bit__, ami egy 0-ás vagy 1-es számjegyet jelent. A következő legkisebb egység a __bájt__ (byte), ami 8 bitből áll. Egy byte tehát $2^8=256$ különböző értéket vehet fel."
   ]
  },
  {
   "cell_type": "markdown",
   "metadata": {},
   "source": [
    "Amikor azt halljuk, hogy az új laptopunkban 500 GB (gigabájt) méretű merevlemez van, az azt jelenti, hogy (kb) $500 \\cdot 1024^3 = 536870912000$ bájt adat fér rá. Persze nagy felbontású videókkal, játékprogramokkal ez hamar elfogy, de számoljunk utána, mennyi szöveget lehetne ekkora helyen tárolni. A leghosszabb Harry Potter kötet kb. negyedmillió szóból áll, ez kb. másfélmillió byte, kb. háromszázezerszer ráférne egy mai laptopra. "
   ]
  },
  {
   "cell_type": "markdown",
   "metadata": {},
   "source": [
    "Ha egy adatban a byte-okat le szeretnénk írni, akkor 8 bitből álló sorozatokat is írhatunk, de ez elég áttekinthetetlen:"
   ]
  },
  {
   "cell_type": "raw",
   "metadata": {},
   "source": [
    "10010011  (147)\n",
    "00111010   (58)"
   ]
  },
  {
   "cell_type": "markdown",
   "metadata": {},
   "source": [
    "Ezért még két számábrázolás elterjedt az informatikában: az __oktális__ ábrázolás, ami a nyolcas számrendszert használja, és a __hexadecimális__, ami a tizenhatos számrendszert."
   ]
  },
  {
   "cell_type": "markdown",
   "metadata": {},
   "source": [
    "A nyolcas számrendszerben a legnagyobb számjegy a 7, a fenti számok így néznének ki:"
   ]
  },
  {
   "cell_type": "raw",
   "metadata": {},
   "source": [
    "223 (147)\n",
    "072 (158)"
   ]
  },
  {
   "cell_type": "markdown",
   "metadata": {},
   "source": [
    "Ma már a számítógépeken az adat legkisebb egysége, amivel a processzor számol, nem a bájt, hanem egy ennél több bitből álló egység, az ún. __szó__. Ha a szó mérete (bitek számában) hárommal osztható, akkor hatékony az oktális ábrázolás, mert minden oktális számjegy három bittel azonos mennyiségű információt tud tárolni - tehát pl. 12 bitet 4 oktális számjeggyel is kifejezhetünk."
   ]
  },
  {
   "cell_type": "markdown",
   "metadata": {},
   "source": [
    "Ennél elterjedtebb a hexadecimális reprezentáció, mivel egy 16-os számrendszerbeli számjegy 16 féle lehet (0, 1, 2, ..., 9, A, B, C, D, E, F), tehát 4 bitnyi adatot tud tárolni. A mai számítogépeken a szavak mérete tipikusan 32 vagy 64 bit, tehát egy szót 8 vagy 16 hexadecimális számjeggyel is le lehet írni. Egy bájt pedig mindössze két ilyen számjegyből áll:"
   ]
  },
  {
   "cell_type": "raw",
   "metadata": {},
   "source": [
    "93\n",
    "9D"
   ]
  },
  {
   "cell_type": "markdown",
   "metadata": {},
   "source": [
    "## Szövegek, sztringek"
   ]
  },
  {
   "cell_type": "markdown",
   "metadata": {},
   "source": [
    "A szöveges adatok, vagy sztringek, karakterek sorozatai. Szöveges adatot többféleképp ábárzolhatunk, a régi módszer szerint egy betű egy byte helyet foglal el, vagyis minden betűt egy 256 elemű listából választunk ki. Ez elegendő, ha csak valamelyik latin írásmódú nyelv betűit és a gyakori írásjeleket akarjuk használni, ezért sok helyen a mai napig így tárolják a szöveges adatot."
   ]
  },
  {
   "cell_type": "markdown",
   "metadata": {},
   "source": [
    "A modern rendszerek már akár négy bájtot is elfoglalnak egyetlen karakter tárolására, vagyis akár $2^{32}$, kb. négymilliárd különböző karaktert is el tud tárolni, ebbe bőven belefér a világ összes írásrendszerének összes karaktere, meg még egy csomó más is:"
   ]
  },
  {
   "cell_type": "code",
   "execution_count": 10,
   "metadata": {
    "collapsed": false
   },
   "outputs": [
    {
     "name": "stdout",
     "output_type": "stream",
     "text": [
      "🐧\n"
     ]
    }
   ],
   "source": [
    "print(\"\\U0001F427\")"
   ]
  },
  {
   "cell_type": "markdown",
   "metadata": {},
   "source": [
    "__12. FELADAT (Pluszpontért beadható! Határidő: december 7. 08:00):__\n",
    "Írj egy függvényt, ami egy számot átvált kettes számrendszerbe! Tipp: használj egy while ciklust, ami jobbról balra állítja elő a számjegyeket!"
   ]
  },
  {
   "cell_type": "code",
   "execution_count": null,
   "metadata": {
    "collapsed": true
   },
   "outputs": [],
   "source": []
  }
 ],
 "metadata": {
  "kernelspec": {
   "display_name": "Python 3",
   "language": "python",
   "name": "python3"
  },
  "language_info": {
   "codemirror_mode": {
    "name": "ipython",
    "version": 3
   },
   "file_extension": ".py",
   "mimetype": "text/x-python",
   "name": "python",
   "nbconvert_exporter": "python",
   "pygments_lexer": "ipython3",
   "version": "3.5.2"
  }
 },
 "nbformat": 4,
 "nbformat_minor": 1
}
