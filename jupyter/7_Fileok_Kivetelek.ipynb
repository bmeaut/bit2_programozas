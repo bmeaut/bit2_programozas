{
 "cells": [
  {
   "cell_type": "markdown",
   "metadata": {},
   "source": [
    "## 7. File-kezelés, kivételkezelés"
   ]
  },
  {
   "cell_type": "markdown",
   "metadata": {},
   "source": [
    "### Fájlkezelés"
   ]
  },
  {
   "cell_type": "markdown",
   "metadata": {},
   "source": [
    "Ahhoz, hogy egy fájl tartalmát egy python programmal olvashassuk, meg kell nyitnunk az __open__ paranccsal. Az __open__ parancs első paramétere a fájl elérési útja, a második paraméter a megnyitás módja, ez olvasás esetén \"r\" (az angol _read_ rövidítése). Az _open_ függvény egy fájl objektumot ad vissza, ezt tárolhatjuk egy változóban, amiből aztán kiolvashatjuk a fájl tartalmát:"
   ]
  },
  {
   "cell_type": "code",
   "execution_count": 2,
   "metadata": {
    "collapsed": true
   },
   "outputs": [],
   "source": [
    "f = open('data/movies.tsv', 'r', encoding=\"utf-8\")"
   ]
  },
  {
   "cell_type": "markdown",
   "metadata": {},
   "source": [
    "A fájl tartalmát beolvashatjuk egy listába, amelyben a fájl minden sora külön elem, erre szolgál a readlines parancs:"
   ]
  },
  {
   "cell_type": "code",
   "execution_count": 3,
   "metadata": {
    "collapsed": false
   },
   "outputs": [],
   "source": [
    "sorok = f.readlines()"
   ]
  },
  {
   "cell_type": "code",
   "execution_count": 7,
   "metadata": {
    "collapsed": false
   },
   "outputs": [
    {
     "data": {
      "text/plain": [
       "'Toy Story \\t1995\\tanimation,children,comedy\\n'"
      ]
     },
     "execution_count": 7,
     "metadata": {},
     "output_type": "execute_result"
    }
   ],
   "source": [
    "sorok[0]"
   ]
  },
  {
   "cell_type": "markdown",
   "metadata": {},
   "source": [
    "A sorok végén egy újsor karakter (\"\\n\") található, ezt a strip paranccsal lehet eltüntetni:"
   ]
  },
  {
   "cell_type": "code",
   "execution_count": 8,
   "metadata": {
    "collapsed": true
   },
   "outputs": [],
   "source": [
    "elso_sor = sorok[0].strip()"
   ]
  },
  {
   "cell_type": "code",
   "execution_count": 9,
   "metadata": {
    "collapsed": false
   },
   "outputs": [
    {
     "data": {
      "text/plain": [
       "'Toy Story \\t1995\\tanimation,children,comedy'"
      ]
     },
     "execution_count": 9,
     "metadata": {},
     "output_type": "execute_result"
    }
   ],
   "source": [
    "elso_sor"
   ]
  },
  {
   "cell_type": "markdown",
   "metadata": {},
   "source": [
    "Ebben az adatban az egyes mezőket TAB (\"\\t\") választja el, a sort TAB-ok mentén szét kell vágnunk. Ehhez használhatjuk a már ismert __split__ parancsot, amelynek ezúttal argumentumot is átadunk: azt a karaktert, amely mentén vágni akarunk (ebben az esetben ez a \"\\t\")."
   ]
  },
  {
   "cell_type": "code",
   "execution_count": 10,
   "metadata": {
    "collapsed": true
   },
   "outputs": [],
   "source": [
    "mezok = elso_sor.split(\"\\t\")"
   ]
  },
  {
   "cell_type": "code",
   "execution_count": 11,
   "metadata": {
    "collapsed": false
   },
   "outputs": [
    {
     "data": {
      "text/plain": [
       "['Toy Story ', '1995', 'animation,children,comedy']"
      ]
     },
     "execution_count": 11,
     "metadata": {},
     "output_type": "execute_result"
    }
   ],
   "source": [
    "mezok"
   ]
  },
  {
   "cell_type": "markdown",
   "metadata": {},
   "source": [
    "Hasonlóan kell szétvágnunk egy sor harmadik mezőjét, amelyben vesszők választják el az egyes műfajokat:"
   ]
  },
  {
   "cell_type": "code",
   "execution_count": 12,
   "metadata": {
    "collapsed": true
   },
   "outputs": [],
   "source": [
    "mufajok = mezok[2].split(',')"
   ]
  },
  {
   "cell_type": "code",
   "execution_count": 13,
   "metadata": {
    "collapsed": false
   },
   "outputs": [
    {
     "data": {
      "text/plain": [
       "['animation', 'children', 'comedy']"
      ]
     },
     "execution_count": 13,
     "metadata": {},
     "output_type": "execute_result"
    }
   ],
   "source": [
    "mufajok"
   ]
  },
  {
   "cell_type": "markdown",
   "metadata": {},
   "source": [
    "Ha egy fájlt már nem használunk többet, be kell zárni, hogy más programok is hozzáférhessenek:"
   ]
  },
  {
   "cell_type": "code",
   "execution_count": 18,
   "metadata": {
    "collapsed": true
   },
   "outputs": [],
   "source": [
    "f.close()"
   ]
  },
  {
   "cell_type": "markdown",
   "metadata": {},
   "source": [
    "Ahhoz, hogy az egész adatot ilyen módon szétvágjuk, egy for ciklust kell írnunk, ami egy új listába helyezi el az adatot, immár megfelelően szétvágva:"
   ]
  },
  {
   "cell_type": "code",
   "execution_count": 5,
   "metadata": {
    "collapsed": true
   },
   "outputs": [],
   "source": [
    "def adatot_beolvas(fajl):\n",
    "    f = open(fajl, 'r', encoding=\"utf-8\")\n",
    "    adat = []\n",
    "    for line in f:\n",
    "        mezok = line.strip().split('\\t')\n",
    "        mezok[0] = mezok[0].strip()\n",
    "        mezok[2] = mezok[2].split(\",\")\n",
    "        adat.append(mezok)\n",
    "    f.close()\n",
    "    return adat"
   ]
  },
  {
   "cell_type": "markdown",
   "metadata": {},
   "source": [
    "Ebben a függvényben nem használtuk a readlines parancsot, a for ciklus magán a fájl objektumon is végig tud menni. Ilyenkor azonban a nyers adat nem lesz eltárolva, ha újra szükségünk van rá, újra ki kell olvasni a fájlból."
   ]
  },
  {
   "cell_type": "code",
   "execution_count": 6,
   "metadata": {
    "collapsed": false
   },
   "outputs": [],
   "source": [
    "adat = adatot_beolvas(\"data/movies.tsv\")"
   ]
  },
  {
   "cell_type": "code",
   "execution_count": 7,
   "metadata": {
    "collapsed": false
   },
   "outputs": [
    {
     "data": {
      "text/plain": [
       "[['Toy Story', '1995', ['animation', 'children', 'comedy']],\n",
       " ['GoldenEye', '1995', ['action', 'adventure', 'thriller']],\n",
       " ['Four Rooms', '1995', ['thriller']],\n",
       " ['Get Shorty', '1995', ['action', 'comedy', 'drama']],\n",
       " ['Copycat', '1995', ['crime', 'drama', 'thriller']]]"
      ]
     },
     "execution_count": 7,
     "metadata": {},
     "output_type": "execute_result"
    }
   ],
   "source": [
    "adat[:5]"
   ]
  },
  {
   "cell_type": "markdown",
   "metadata": {},
   "source": [
    "Ha egy fájlt írni szeretnénk, akkor write (\"w\") módban kell megnyitni. Vigyázat, ha így nyitunk meg egy már létező fájlt, az törli a tartalmát! Készítsünk most egy másik fájlt, ami csak a gyerekfilmeket tartalmazza:"
   ]
  },
  {
   "cell_type": "code",
   "execution_count": 8,
   "metadata": {
    "collapsed": false
   },
   "outputs": [],
   "source": [
    "f = open('data/movies_children.tsv', 'w', encoding=\"utf-8\")\n",
    "for film in adat:\n",
    "    if 'children' not in film[2]:\n",
    "        continue\n",
    "    cim, ev, mufajok = film\n",
    "    mufaj_mezo = \",\".join(mufajok)\n",
    "    mezok = [cim, ev, mufaj_mezo]\n",
    "    sor = \"\\t\".join(mezok)+'\\n'\n",
    "    f.write(sor)\n",
    "f.close()"
   ]
  },
  {
   "cell_type": "markdown",
   "metadata": {},
   "source": [
    "Nézzünk bele az új fájlba, hogy jól sikerült-e a kiírás:"
   ]
  },
  {
   "cell_type": "code",
   "execution_count": 9,
   "metadata": {
    "collapsed": true
   },
   "outputs": [],
   "source": [
    "uj_adat = adatot_beolvas('data/movies_children.tsv')"
   ]
  },
  {
   "cell_type": "code",
   "execution_count": 10,
   "metadata": {
    "collapsed": false
   },
   "outputs": [
    {
     "data": {
      "text/plain": [
       "[['Toy Story', '1995', ['animation', 'children', 'comedy']],\n",
       " ['Babe', '1995', ['children', 'comedy', 'drama']],\n",
       " ['Free Willy 2: The Adventure Home',\n",
       "  '1995',\n",
       "  ['adventure', 'children', 'drama']],\n",
       " ['Santa Clause, The', '1994', ['children', 'comedy']],\n",
       " ['Lion King, The', '1994', ['animation', 'children', 'musical']]]"
      ]
     },
     "execution_count": 10,
     "metadata": {},
     "output_type": "execute_result"
    }
   ],
   "source": [
    "uj_adat[:5]"
   ]
  },
  {
   "cell_type": "markdown",
   "metadata": {},
   "source": [
    "Persze a kiírást is jobb lenne egy függvénybe csomagolni, és különválasztani a szűréstől:"
   ]
  },
  {
   "cell_type": "code",
   "execution_count": 11,
   "metadata": {
    "collapsed": true
   },
   "outputs": [],
   "source": [
    "def adatot_kiir(adat, fajl):\n",
    "    f = open(fajl, 'w')\n",
    "    for film in adat:\n",
    "        cim, ev, mufajok = film\n",
    "        mufaj_mezo = \",\".join(mufajok)\n",
    "        mezok = [cim, ev, mufaj_mezo]\n",
    "        sor = \"\\t\".join(mezok)+'\\n'\n",
    "        f.write(sor)\n",
    "    f.close()"
   ]
  },
  {
   "cell_type": "markdown",
   "metadata": {},
   "source": [
    "A szűrés pedig egy független művelet, ezt tegyük be egy függvénybe, aminek tetszőleges műfajt át lehet adni:"
   ]
  },
  {
   "cell_type": "code",
   "execution_count": 12,
   "metadata": {
    "collapsed": true
   },
   "outputs": [],
   "source": [
    "def mufajra_szur(adat, mufaj):\n",
    "    szurt_adat = []\n",
    "    for film in adat:\n",
    "        if mufaj in film[2]:\n",
    "            szurt_adat.append(film)\n",
    "    return szurt_adat"
   ]
  },
  {
   "cell_type": "markdown",
   "metadata": {},
   "source": [
    "Próbáljuk ki ezt a függvényt egy másik műfajjal:"
   ]
  },
  {
   "cell_type": "code",
   "execution_count": 13,
   "metadata": {
    "collapsed": true
   },
   "outputs": [],
   "source": [
    "western_filmek = mufajra_szur(adat, \"western\")"
   ]
  },
  {
   "cell_type": "code",
   "execution_count": 14,
   "metadata": {
    "collapsed": false
   },
   "outputs": [
    {
     "data": {
      "text/plain": [
       "[['Legends of the Fall', '1994', ['drama', 'romance', 'war', 'western']],\n",
       " ['Maverick', '1994', ['action', 'comedy', 'western']],\n",
       " ['Dances with Wolves', '1990', ['adventure', 'drama', 'western']],\n",
       " ['Good, The Bad and The Ugly, The', '1966', ['action', 'western']],\n",
       " ['Unforgiven', '1992', ['western']]]"
      ]
     },
     "execution_count": 14,
     "metadata": {},
     "output_type": "execute_result"
    }
   ],
   "source": [
    "western_filmek[:5]"
   ]
  },
  {
   "cell_type": "markdown",
   "metadata": {},
   "source": [
    "Ezekből a függvényekből már könnyen írhatunk olyan függvényt is, ami beolvassa az adatot egy fájlból és kiírja egy szűrt változatát egy másik fájlba:"
   ]
  },
  {
   "cell_type": "code",
   "execution_count": 15,
   "metadata": {
    "collapsed": true
   },
   "outputs": [],
   "source": [
    "def fajlt_szur(mufaj):\n",
    "    adat = adatot_beolvas('data/movies.tsv')\n",
    "    szurt_adat = mufajra_szur(adat, mufaj)\n",
    "    uj_fajl = \"data/movies_\"+mufaj+\".tsv\"\n",
    "    adatot_kiir(szurt_adat, uj_fajl)    "
   ]
  },
  {
   "cell_type": "code",
   "execution_count": 16,
   "metadata": {
    "collapsed": false
   },
   "outputs": [],
   "source": [
    "fajlt_szur('comedy')"
   ]
  },
  {
   "cell_type": "markdown",
   "metadata": {},
   "source": [
    "Nézzük meg, mit csináltunk:"
   ]
  },
  {
   "cell_type": "code",
   "execution_count": 17,
   "metadata": {
    "collapsed": false
   },
   "outputs": [],
   "source": [
    "vigjatekok = adatot_beolvas('data/movies_comedy.tsv')"
   ]
  },
  {
   "cell_type": "code",
   "execution_count": 18,
   "metadata": {
    "collapsed": false
   },
   "outputs": [
    {
     "data": {
      "text/plain": [
       "[['Toy Story', '1995', ['animation', 'children', 'comedy']],\n",
       " ['Get Shorty', '1995', ['action', 'comedy', 'drama']],\n",
       " ['Babe', '1995', ['children', 'comedy', 'drama']],\n",
       " ['Mighty Aphrodite', '1995', ['comedy']],\n",
       " ['French Twist', '1995', ['comedy', 'romance']]]"
      ]
     },
     "execution_count": 18,
     "metadata": {},
     "output_type": "execute_result"
    }
   ],
   "source": [
    "vigjatekok[:5]"
   ]
  },
  {
   "cell_type": "markdown",
   "metadata": {},
   "source": [
    "Az eddigiekből most már megépíthetjük azt a függvényt is, ami minden műfajra elvégzi a szűrést és szétszedi az adatot annyi fájlba, ahány különböző műfaj van az adatban. Ehhez már csak arra van szükség, hogy összeszedjük az összes műfajt, erre írunk még egy függvényt:"
   ]
  },
  {
   "cell_type": "code",
   "execution_count": 19,
   "metadata": {
    "collapsed": true
   },
   "outputs": [],
   "source": [
    "def osszes_mufajt_listaz(adat):\n",
    "    mufajok = []\n",
    "    for film in adat:\n",
    "        for mufaj in film[2]:\n",
    "            if mufaj not in mufajok:\n",
    "                mufajok.append(mufaj)\n",
    "    mufajok.sort()\n",
    "    return mufajok        "
   ]
  },
  {
   "cell_type": "code",
   "execution_count": 20,
   "metadata": {
    "collapsed": false
   },
   "outputs": [
    {
     "data": {
      "text/plain": [
       "['action',\n",
       " 'adventure',\n",
       " 'animation',\n",
       " 'children',\n",
       " 'comedy',\n",
       " 'crime',\n",
       " 'documentary',\n",
       " 'drama',\n",
       " 'fantasy',\n",
       " 'film_noir',\n",
       " 'horror',\n",
       " 'musical',\n",
       " 'mystery',\n",
       " 'romance',\n",
       " 'sci_fi',\n",
       " 'thriller',\n",
       " 'unknown',\n",
       " 'war',\n",
       " 'western']"
      ]
     },
     "execution_count": 20,
     "metadata": {},
     "output_type": "execute_result"
    }
   ],
   "source": [
    "mufajok = osszes_mufajt_listaz(adat)\n",
    "mufajok"
   ]
  },
  {
   "cell_type": "markdown",
   "metadata": {},
   "source": [
    "Ezután a teljes szétválogatás már nagyon egyszerű:"
   ]
  },
  {
   "cell_type": "code",
   "execution_count": 21,
   "metadata": {
    "collapsed": true
   },
   "outputs": [],
   "source": [
    "def mufajokat_szetvalogat(mufajok):\n",
    "    for mufaj in mufajok:\n",
    "        fajlt_szur(mufaj)"
   ]
  },
  {
   "cell_type": "code",
   "execution_count": 22,
   "metadata": {
    "collapsed": true
   },
   "outputs": [],
   "source": [
    "mufajokat_szetvalogat(mufajok)"
   ]
  },
  {
   "cell_type": "markdown",
   "metadata": {},
   "source": [
    "Persze ez nem egy hatékony megoldás: 20-szor mentünk végig az adaton, pedig egyszer is elég lett volna, ilyet nagyobb adatnál nem engedhetünk meg magunknak."
   ]
  },
  {
   "cell_type": "markdown",
   "metadata": {},
   "source": [
    "### Kivételkezelés"
   ]
  },
  {
   "cell_type": "markdown",
   "metadata": {},
   "source": [
    "A hibaüzeneteket, amiket már sokszor láttunk, a programozók __kivételeknek__ (exception) nevezik. Nézzük meg, miből épül fel egy kivétel, okozzunk egyet:"
   ]
  },
  {
   "cell_type": "code",
   "execution_count": 72,
   "metadata": {
    "collapsed": false
   },
   "outputs": [
    {
     "ename": "ZeroDivisionError",
     "evalue": "division by zero",
     "output_type": "error",
     "traceback": [
      "\u001b[0;31m---------------------------------------------------------------------------\u001b[0m",
      "\u001b[0;31mZeroDivisionError\u001b[0m                         Traceback (most recent call last)",
      "\u001b[0;32m<ipython-input-72-a0641230c7a8>\u001b[0m in \u001b[0;36m<module>\u001b[0;34m()\u001b[0m\n\u001b[0;32m----> 1\u001b[0;31m \u001b[0;36m3\u001b[0m\u001b[0;34m/\u001b[0m\u001b[0;36m0\u001b[0m\u001b[0;34m\u001b[0m\u001b[0m\n\u001b[0m",
      "\u001b[0;31mZeroDivisionError\u001b[0m: division by zero"
     ]
    }
   ],
   "source": [
    "3/0"
   ]
  },
  {
   "cell_type": "markdown",
   "metadata": {},
   "source": [
    "Az utolsó sor megadja a kivétel típusát (jelen esetben _ZeroDivisionError_), ezt követi bármilyen további információ, amit tudhatunk az adott hiba okáról. Az utolsó sor előtti rész mutatja meg, hogy melyik sorok futtatásánál keletkezett a hiba. Nézzünk még egy példát:"
   ]
  },
  {
   "cell_type": "code",
   "execution_count": 73,
   "metadata": {
    "collapsed": false
   },
   "outputs": [
    {
     "ename": "ValueError",
     "evalue": "invalid literal for int() with base 10: 'pingvin'",
     "output_type": "error",
     "traceback": [
      "\u001b[0;31m---------------------------------------------------------------------------\u001b[0m",
      "\u001b[0;31mValueError\u001b[0m                                Traceback (most recent call last)",
      "\u001b[0;32m<ipython-input-73-2107a36c2657>\u001b[0m in \u001b[0;36m<module>\u001b[0;34m()\u001b[0m\n\u001b[0;32m----> 1\u001b[0;31m \u001b[0mint\u001b[0m\u001b[0;34m(\u001b[0m\u001b[0;34m\"pingvin\"\u001b[0m\u001b[0;34m)\u001b[0m\u001b[0;34m\u001b[0m\u001b[0m\n\u001b[0m",
      "\u001b[0;31mValueError\u001b[0m: invalid literal for int() with base 10: 'pingvin'"
     ]
    }
   ],
   "source": [
    "int(\"pingvin\")"
   ]
  },
  {
   "cell_type": "markdown",
   "metadata": {},
   "source": [
    "Amikor egy szót próbálunk számmá konvertálni, _ValueError_ keletkezik, de ennél többet is tudunk, a : utáni rész részletezi a hibát, ti. hogy a \"pingvin\" nem értelmezhető számként (10-es számrendszerben)."
   ]
  },
  {
   "cell_type": "markdown",
   "metadata": {},
   "source": [
    "Kivételkezelésnek azt hívjuk, amikor a kódot előre felkészítjük arra, hogy bizonyos típusú kivételeket \"elviseljen\", vagyis ha adott típusú hibákat okoz a futása, akkor ne álljon le, hanem valamit reagáljon. Az alábbi kód például beolvas egy számot, és ha nem tudja int-té konvertálni, akkor ezt írja ki."
   ]
  },
  {
   "cell_type": "code",
   "execution_count": 74,
   "metadata": {
    "collapsed": false
   },
   "outputs": [
    {
     "name": "stdout",
     "output_type": "stream",
     "text": [
      "Írj be egy számot!\n",
      "fkj\n",
      "Ez nem szám!\n",
      "Írj be egy számot!\n",
      "sdfk\n",
      "Ez nem szám!\n",
      "Írj be egy számot!\n",
      "pingvin\n",
      "Ez nem szám!\n",
      "Írj be egy számot!\n",
      "23f\n",
      "Ez nem szám!\n",
      "Írj be egy számot!\n",
      "15\n",
      "Ezt írtad be: 15\n"
     ]
    }
   ],
   "source": [
    "while True:\n",
    "    print(\"Írj be egy számot!\")\n",
    "    sztring = input()\n",
    "    try:\n",
    "        szam = int(sztring)\n",
    "        break\n",
    "    except ValueError:\n",
    "        print(\"Ez nem szám!\")\n",
    "\n",
    "print(\"Ezt írtad be:\", szam)"
   ]
  },
  {
   "cell_type": "markdown",
   "metadata": {},
   "source": [
    "A __try__ és __except__ szavak közötti blokkba kell írni azokat a parancsokat, amelyek során hibára számítunk. Az except után kell felsorolni azokat a hibatípusokat, amelyeket \"el kell kapni\", és ezt követi az a blokk, ami megadja, a hiba jelentkezése esetén milyen kód fusson le."
   ]
  },
  {
   "cell_type": "markdown",
   "metadata": {},
   "source": [
    "Így aztán megírhatunk egy fájl-beolvasó függvényt úgy, hogy ne okozzon problémát, ha a fájl egy-két sora hibás, vagy csak másmilyen, mint a többi. A \"hp_characters.tsv\" fájlban Harry Potter karakterek szerepelnek teljes névvel és leírással. Az alábbi függvény beolvassa a neveket egy listába, \"vezetéknév, keresztnév\" formában, de hibát okoz, ha egy név nem két szóból áll:"
   ]
  },
  {
   "cell_type": "code",
   "execution_count": 23,
   "metadata": {
    "collapsed": true
   },
   "outputs": [],
   "source": [
    "def neveket_beolvas(fajl):\n",
    "    f = open(fajl, 'r', encoding=\"utf-8\")\n",
    "    nevek = []\n",
    "    for line in f:\n",
    "        nev, leiras = line.strip().split('\\t')\n",
    "        keresztnev, vezeteknev = nev.split()\n",
    "        nevek.append(vezeteknev+\", \"+keresztnev)\n",
    "    return nevek"
   ]
  },
  {
   "cell_type": "code",
   "execution_count": 24,
   "metadata": {
    "collapsed": false
   },
   "outputs": [
    {
     "ename": "ValueError",
     "evalue": "too many values to unpack (expected 2)",
     "output_type": "error",
     "traceback": [
      "\u001b[0;31m---------------------------------------------------------------------------\u001b[0m",
      "\u001b[0;31mValueError\u001b[0m                                Traceback (most recent call last)",
      "\u001b[0;32m<ipython-input-24-5b504aef9681>\u001b[0m in \u001b[0;36m<module>\u001b[0;34m()\u001b[0m\n\u001b[0;32m----> 1\u001b[0;31m \u001b[0mneveket_beolvas\u001b[0m\u001b[0;34m(\u001b[0m\u001b[0;34m'data/hp_characters.tsv'\u001b[0m\u001b[0;34m)\u001b[0m\u001b[0;34m\u001b[0m\u001b[0m\n\u001b[0m",
      "\u001b[0;32m<ipython-input-23-6f46562632cc>\u001b[0m in \u001b[0;36mneveket_beolvas\u001b[0;34m(fajl)\u001b[0m\n\u001b[1;32m      4\u001b[0m     \u001b[0;32mfor\u001b[0m \u001b[0mline\u001b[0m \u001b[0;32min\u001b[0m \u001b[0mf\u001b[0m\u001b[0;34m:\u001b[0m\u001b[0;34m\u001b[0m\u001b[0m\n\u001b[1;32m      5\u001b[0m         \u001b[0mnev\u001b[0m\u001b[0;34m,\u001b[0m \u001b[0mleiras\u001b[0m \u001b[0;34m=\u001b[0m \u001b[0mline\u001b[0m\u001b[0;34m.\u001b[0m\u001b[0mstrip\u001b[0m\u001b[0;34m(\u001b[0m\u001b[0;34m)\u001b[0m\u001b[0;34m.\u001b[0m\u001b[0msplit\u001b[0m\u001b[0;34m(\u001b[0m\u001b[0;34m'\\t'\u001b[0m\u001b[0;34m)\u001b[0m\u001b[0;34m\u001b[0m\u001b[0m\n\u001b[0;32m----> 6\u001b[0;31m         \u001b[0mkeresztnev\u001b[0m\u001b[0;34m,\u001b[0m \u001b[0mvezeteknev\u001b[0m \u001b[0;34m=\u001b[0m \u001b[0mnev\u001b[0m\u001b[0;34m.\u001b[0m\u001b[0msplit\u001b[0m\u001b[0;34m(\u001b[0m\u001b[0;34m)\u001b[0m\u001b[0;34m\u001b[0m\u001b[0m\n\u001b[0m\u001b[1;32m      7\u001b[0m         \u001b[0mnevek\u001b[0m\u001b[0;34m.\u001b[0m\u001b[0mappend\u001b[0m\u001b[0;34m(\u001b[0m\u001b[0mvezeteknev\u001b[0m\u001b[0;34m+\u001b[0m\u001b[0;34m\", \"\u001b[0m\u001b[0;34m+\u001b[0m\u001b[0mkeresztnev\u001b[0m\u001b[0;34m)\u001b[0m\u001b[0;34m\u001b[0m\u001b[0m\n\u001b[1;32m      8\u001b[0m     \u001b[0;32mreturn\u001b[0m \u001b[0mnevek\u001b[0m\u001b[0;34m\u001b[0m\u001b[0m\n",
      "\u001b[0;31mValueError\u001b[0m: too many values to unpack (expected 2)"
     ]
    }
   ],
   "source": [
    "neveket_beolvas('data/hp_characters.tsv')"
   ]
  },
  {
   "cell_type": "markdown",
   "metadata": {},
   "source": [
    "Kezeljük a hibát és írjuk ki azokat a neveket, amiket nem tudtunk így feldolgozni:"
   ]
  },
  {
   "cell_type": "code",
   "execution_count": 25,
   "metadata": {
    "collapsed": true
   },
   "outputs": [],
   "source": [
    "def neveket_beolvas(fajl):\n",
    "    f = open(fajl, 'r', encoding=\"utf-8\")\n",
    "    nevek = []\n",
    "    for line in f:\n",
    "        nev, leiras = line.strip().split('\\t')\n",
    "        try:\n",
    "            keresztnev, vezeteknev = nev.split()\n",
    "            nevek.append(vezeteknev+\", \"+keresztnev)\n",
    "        except ValueError:\n",
    "            print(\"Hiba:\", nev)\n",
    "    return nevek        "
   ]
  },
  {
   "cell_type": "code",
   "execution_count": 26,
   "metadata": {
    "collapsed": false
   },
   "outputs": [
    {
     "name": "stdout",
     "output_type": "stream",
     "text": [
      "Hiba: Regulus Arcturus Black\n",
      "Hiba: Vincent Crabbe Sr.\n",
      "Hiba: \"Bartemius \"\"Barty\"\" Crouch Sr.\"\n",
      "Hiba: \"Bartemius \"\"Barty\"\" Crouch Jr.\"\n",
      "Hiba: \"Alastor \"\"Mad-Eye\"\" Moody\"\n",
      "Hiba: Tom Riddle Sr.\n",
      "Hiba: Dolores Janes Umbridge\n",
      "Hiba: Dobby\n",
      "Hiba: Fluffy\n",
      "Hiba: Hedwig\n",
      "Hiba: Aragog\n",
      "Hiba: Grawp\n"
     ]
    },
    {
     "data": {
      "text/plain": [
       "['Black, Sirius',\n",
       " 'Brown, Lavender',\n",
       " 'Chang, Cho',\n",
       " 'Crabbe, Vincent',\n",
       " 'Delacour, Fleur',\n",
       " 'Diggory, Cedric',\n",
       " 'Dumbledore, Alberforth',\n",
       " 'Dumbledore, Albus',\n",
       " 'Dursley, Dudley',\n",
       " 'Dursley, Petunia',\n",
       " 'Dursley, Vernon',\n",
       " 'Filch, Argus',\n",
       " 'Finnigan, Seamus',\n",
       " 'Flamel, Nicolas',\n",
       " 'Fudge, Cornelius',\n",
       " 'Sr., Goyle',\n",
       " 'Goyle, Gregory',\n",
       " 'Granger, Hermione',\n",
       " 'Hagrid, Rubeus',\n",
       " 'Karkaroff, Igor',\n",
       " 'Krum, Viktor',\n",
       " 'Lestrange, Bellatrix',\n",
       " 'Longbottom, Alice',\n",
       " 'Longbottom, Frank',\n",
       " 'Longbottom, Neville',\n",
       " 'Lovegood, Luna',\n",
       " 'Lovegood, Xenophilius',\n",
       " 'Lupin, Remus',\n",
       " 'Malfoy, Draco',\n",
       " 'Malfoy, Lucius',\n",
       " 'Malfoy, Narcissa',\n",
       " 'Maxime, Olympe',\n",
       " 'McGonagall, Minerva',\n",
       " 'Pettigrew, Peter',\n",
       " 'Potter, Harry',\n",
       " 'Potter, James',\n",
       " 'Potter, Lily',\n",
       " 'Quirrell, Quirinus',\n",
       " 'Riddle, Mary',\n",
       " 'Voldemort, Lord',\n",
       " 'Skeeter, Rita',\n",
       " 'Snape, Severus',\n",
       " 'Tonks, Nymphadora',\n",
       " 'Weasley, Arthur',\n",
       " 'Weasley, Bill',\n",
       " 'Weasley, Charlie',\n",
       " 'Weasley, Fred',\n",
       " 'Weasley, George',\n",
       " 'Weasley, Ginny',\n",
       " 'Weasley, Molly',\n",
       " 'Weasley, Percy',\n",
       " 'Weasley, Ron',\n",
       " 'Myrtle, Moaning']"
      ]
     },
     "execution_count": 26,
     "metadata": {},
     "output_type": "execute_result"
    }
   ],
   "source": [
    "neveket_beolvas('data/hp_characters.tsv')"
   ]
  },
  {
   "cell_type": "markdown",
   "metadata": {},
   "source": [
    "Próbáljuk ezeket a neveket is kezelni úgy, hogy minden név utolsó elemét tekintjük vezetéknévnek. Ay egyszavas neveket is külön kezeljük."
   ]
  },
  {
   "cell_type": "code",
   "execution_count": 29,
   "metadata": {
    "collapsed": true
   },
   "outputs": [],
   "source": [
    "def neveket_beolvas(fajl):\n",
    "    f = open(fajl, 'r', encoding=\"utf-8\")\n",
    "    nevek = []\n",
    "    for line in f:\n",
    "        nev, leiras = line.strip().split('\\t')\n",
    "        szavak = nev.strip('\"').split()\n",
    "        if len(szavak) == 1:\n",
    "            nevek.append(szavak[0])\n",
    "            continue\n",
    "        try:\n",
    "            keresztnev, vezeteknev = szavak\n",
    "        except ValueError:\n",
    "            vezeteknev = szavak[-1]\n",
    "            keresztnev = \" \".join(szavak[:-1])\n",
    "        nevek.append(vezeteknev+\", \"+keresztnev)\n",
    "    return nevek"
   ]
  },
  {
   "cell_type": "code",
   "execution_count": 30,
   "metadata": {
    "collapsed": false
   },
   "outputs": [
    {
     "data": {
      "text/plain": [
       "['Black, Regulus Arcturus',\n",
       " 'Black, Sirius',\n",
       " 'Brown, Lavender',\n",
       " 'Chang, Cho',\n",
       " 'Sr., Vincent Crabbe',\n",
       " 'Crabbe, Vincent',\n",
       " 'Sr., Bartemius \"\"Barty\"\" Crouch',\n",
       " 'Jr., Bartemius \"\"Barty\"\" Crouch',\n",
       " 'Delacour, Fleur',\n",
       " 'Diggory, Cedric',\n",
       " 'Dumbledore, Alberforth',\n",
       " 'Dumbledore, Albus',\n",
       " 'Dursley, Dudley',\n",
       " 'Dursley, Petunia',\n",
       " 'Dursley, Vernon',\n",
       " 'Filch, Argus',\n",
       " 'Finnigan, Seamus',\n",
       " 'Flamel, Nicolas',\n",
       " 'Fudge, Cornelius',\n",
       " 'Sr., Goyle',\n",
       " 'Goyle, Gregory',\n",
       " 'Granger, Hermione',\n",
       " 'Hagrid, Rubeus',\n",
       " 'Karkaroff, Igor',\n",
       " 'Krum, Viktor',\n",
       " 'Lestrange, Bellatrix',\n",
       " 'Longbottom, Alice',\n",
       " 'Longbottom, Frank',\n",
       " 'Longbottom, Neville',\n",
       " 'Lovegood, Luna',\n",
       " 'Lovegood, Xenophilius',\n",
       " 'Lupin, Remus',\n",
       " 'Malfoy, Draco',\n",
       " 'Malfoy, Lucius',\n",
       " 'Malfoy, Narcissa',\n",
       " 'Maxime, Olympe',\n",
       " 'McGonagall, Minerva',\n",
       " 'Moody, Alastor \"\"Mad-Eye\"\"',\n",
       " 'Pettigrew, Peter',\n",
       " 'Potter, Harry',\n",
       " 'Potter, James',\n",
       " 'Potter, Lily',\n",
       " 'Quirrell, Quirinus',\n",
       " 'Sr., Tom Riddle',\n",
       " 'Riddle, Mary',\n",
       " 'Voldemort, Lord',\n",
       " 'Skeeter, Rita',\n",
       " 'Snape, Severus',\n",
       " 'Tonks, Nymphadora',\n",
       " 'Umbridge, Dolores Janes',\n",
       " 'Weasley, Arthur',\n",
       " 'Weasley, Bill',\n",
       " 'Weasley, Charlie',\n",
       " 'Weasley, Fred',\n",
       " 'Weasley, George',\n",
       " 'Weasley, Ginny',\n",
       " 'Weasley, Molly',\n",
       " 'Weasley, Percy',\n",
       " 'Weasley, Ron',\n",
       " 'Dobby',\n",
       " 'Fluffy',\n",
       " 'Hedwig',\n",
       " 'Myrtle, Moaning',\n",
       " 'Aragog',\n",
       " 'Grawp']"
      ]
     },
     "execution_count": 30,
     "metadata": {},
     "output_type": "execute_result"
    }
   ],
   "source": [
    "neveket_beolvas('data/hp_characters.tsv')"
   ]
  },
  {
   "cell_type": "markdown",
   "metadata": {},
   "source": [
    "### Egy összetettebb feladat"
   ]
  },
  {
   "cell_type": "markdown",
   "metadata": {},
   "source": [
    "Végül nézzük meg, hogyan épül fel egy összetettebb program, ami fájlkezelést és kivételkezelést is tartalmaz. Az alábbi példában olyan alkalmazást írunk, ami beolvassa a filmes adatot, majd a felhasználót megkérdezi, hogy melyik évből, milyen műfajú filmekre kiváncsi, és csak ezeket listázza."
   ]
  },
  {
   "cell_type": "markdown",
   "metadata": {},
   "source": [
    "Először gondoljuk végig, milyen függvényekre lesz szükségünk:\n",
    "- Adatbeolvasó függvény\n",
    "- Év alapján válogató függvény\n",
    "- Műfaj alapján válogató függvény\n",
    "- Központi, a felhasználóval \"kommunikáló\" függvény"
   ]
  },
  {
   "cell_type": "markdown",
   "metadata": {},
   "source": [
    "Rögtön azt is megtervezhetjük, melyik függvény milyen paramétereket fog kapni és mit fog visszaadni, ezalapján megírhatjuk mindegyik függvény \"vázát\":"
   ]
  },
  {
   "cell_type": "code",
   "execution_count": 108,
   "metadata": {
    "collapsed": true
   },
   "outputs": [],
   "source": [
    "def adatot_beolvas(fajlnev):\n",
    "    adat = []\n",
    "    # ide kerül maga a beolvasás\n",
    "    return adat"
   ]
  },
  {
   "cell_type": "code",
   "execution_count": 109,
   "metadata": {
    "collapsed": true
   },
   "outputs": [],
   "source": [
    "def evre_szur(adat):\n",
    "    szurt_adat = []\n",
    "    # ide kerül a szűrés\n",
    "    return szurt_adat"
   ]
  },
  {
   "cell_type": "code",
   "execution_count": 110,
   "metadata": {
    "collapsed": true
   },
   "outputs": [],
   "source": [
    "def mufajra_szur(adat):\n",
    "    szurt_adat = []\n",
    "    # ide kerül a szűrés\n",
    "    return szurt_adat"
   ]
  },
  {
   "cell_type": "code",
   "execution_count": 113,
   "metadata": {
    "collapsed": true
   },
   "outputs": [],
   "source": [
    "def main():\n",
    "    while True:\n",
    "        print(\"Melyik évre vagy kiváncsi?\")\n",
    "        # ...\n",
    "        print(\"És milyen műfajra?\")\n",
    "        # ...\n",
    "        # ..."
   ]
  },
  {
   "cell_type": "markdown",
   "metadata": {},
   "source": [
    "__7.1. FELADAT__ Írj olyan függvényt, ami sztringeket olvas be a felhasználótól, és kiírja őket egy fájlba, amíg a felhasználó azt nem írja, hogy \"elég\". A fájl neve legyen \"user_input.txt\". Minden sztring kerüljön új sorba a fájlban!"
   ]
  },
  {
   "cell_type": "code",
   "execution_count": null,
   "metadata": {
    "collapsed": true
   },
   "outputs": [],
   "source": []
  },
  {
   "cell_type": "markdown",
   "metadata": {},
   "source": [
    "__7.2. FELADAT__ Írj olyan függvényt, ami a teljes Harry Potter adatot beolvassa egy listába (tehát minden listaelem egy kettő hosszúságú lista). Ellenőrizd is, hogy jól működik-e!"
   ]
  },
  {
   "cell_type": "code",
   "execution_count": null,
   "metadata": {
    "collapsed": true
   },
   "outputs": [],
   "source": []
  },
  {
   "cell_type": "markdown",
   "metadata": {},
   "source": [
    "__7.3. FELADAT__ Írj olyan függvényt, ami a HP adatot kiírja az eredeti formátumban (TAB-bal elválasztott mezők)."
   ]
  },
  {
   "cell_type": "code",
   "execution_count": null,
   "metadata": {
    "collapsed": true
   },
   "outputs": [],
   "source": []
  },
  {
   "cell_type": "markdown",
   "metadata": {},
   "source": [
    "__7.4. FELADAT__ Írj egy függvényt, ami a HP adatból kiválogatja a Weasley-ket, és visszaadja őket egy listában."
   ]
  },
  {
   "cell_type": "code",
   "execution_count": null,
   "metadata": {
    "collapsed": true
   },
   "outputs": [],
   "source": []
  },
  {
   "cell_type": "markdown",
   "metadata": {},
   "source": [
    " __7.5. FELADAT__ Használd az előző két feladatban írt függvényeket, és írj olyan programot, ami beolvassa az adatot, kiválogatja a Weasley-ket, és kiírja őket egy \"weasleyk.tsv\" nevű fájlba."
   ]
  },
  {
   "cell_type": "code",
   "execution_count": null,
   "metadata": {
    "collapsed": true
   },
   "outputs": [],
   "source": []
  },
  {
   "cell_type": "markdown",
   "metadata": {},
   "source": [
    "__7.6 FELADAT (Pluszpontokért beadható! Határidő: 2016. november 9. 08:00)__\n",
    "\n",
    "Írj olyan függvényt, aminek a Harry Potter-adatot tartalmazó fájl nevét kell átadni paraméterként, ő pedig megnyitja a fájlt, beolvassa az adatot, és a felhasználó vezetéknév alapján kereshet benne: valahányszor beír egy sztringet, megkeressük, hogy a táblázat hányadik sorában szerepel az adott sztring vezetéknévként, és írja ki az adott sorból a nevet és a leírást is. Segítség: szükség lesz egy listára, amiben csak a vezetéknevek vannak, és kivételkezelésre, ha nem található az adott sztring a listában!"
   ]
  },
  {
   "cell_type": "code",
   "execution_count": null,
   "metadata": {
    "collapsed": true
   },
   "outputs": [],
   "source": []
  }
 ],
 "metadata": {
  "kernelspec": {
   "display_name": "Python 3",
   "language": "python",
   "name": "python3"
  },
  "language_info": {
   "codemirror_mode": {
    "name": "ipython",
    "version": 3
   },
   "file_extension": ".py",
   "mimetype": "text/x-python",
   "name": "python",
   "nbconvert_exporter": "python",
   "pygments_lexer": "ipython3",
   "version": "3.5.2"
  }
 },
 "nbformat": 4,
 "nbformat_minor": 1
}
