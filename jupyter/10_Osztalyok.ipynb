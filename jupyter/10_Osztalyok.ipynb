{
 "cells": [
  {
   "cell_type": "markdown",
   "metadata": {},
   "source": [
    "## 10. Osztályok"
   ]
  },
  {
   "cell_type": "markdown",
   "metadata": {},
   "source": [
    "Az alapvető típusok (int, float, sztring, lista, tuple, dictionary) megfelelő kombinálásával már egészen összetett adatstruktúrákat tudtunk létrehozni, függvények definiálásával pedig bármilyen műveletsorból tudunk már \"építőkockát\" gyártani, így egy bonyolultabb programot is egyszerűbb, kisebb programok kombinálásával tudunk megírni."
   ]
  },
  {
   "cell_type": "markdown",
   "metadata": {},
   "source": [
    "Amikor egy egyedi adatstruktúrát összekapcsolunk a hozzátartozó egyedi műveletekkel (függvényekkel), akkor ezzel __egyedi típusokat__ hozunk létre, ezeket nevezzük __osztályoknak__."
   ]
  },
  {
   "cell_type": "markdown",
   "metadata": {},
   "source": [
    "A már megismert típusaink is osztályok: a sztring osztályban tárolt adat egy karaktersorozat, és a típushoz kapcsolódó műveletek pl. a _split_, az _upper_, stb., az int osztályban tárolt adat egy egész szám, kapcsolódó műveletek pl. az összeadás, szorzás, stb."
   ]
  },
  {
   "cell_type": "markdown",
   "metadata": {},
   "source": []
  }
 ],
 "metadata": {
  "kernelspec": {
   "display_name": "Python 3",
   "language": "python",
   "name": "python3"
  },
  "language_info": {
   "codemirror_mode": {
    "name": "ipython",
    "version": 3
   },
   "file_extension": ".py",
   "mimetype": "text/x-python",
   "name": "python",
   "nbconvert_exporter": "python",
   "pygments_lexer": "ipython3",
   "version": "3.5.2"
  }
 },
 "nbformat": 4,
 "nbformat_minor": 1
}
