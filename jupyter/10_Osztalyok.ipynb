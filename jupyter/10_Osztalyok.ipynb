{
 "cells": [
  {
   "cell_type": "markdown",
   "metadata": {},
   "source": [
    "## 10. Osztályok"
   ]
  },
  {
   "cell_type": "markdown",
   "metadata": {},
   "source": [
    "Az alapvető típusok (int, float, sztring, lista, tuple, dictionary) megfelelő kombinálásával már egészen összetett adatstruktúrákat tudtunk létrehozni, függvények definiálásával pedig bármilyen műveletsorból tudunk már \"építőkockát\" gyártani, így egy bonyolultabb programot is egyszerűbb, kisebb programok kombinálásával tudunk megírni."
   ]
  },
  {
   "cell_type": "markdown",
   "metadata": {},
   "source": [
    "Amikor egy egyedi adatstruktúrát összekapcsolunk a hozzátartozó egyedi műveletekkel (függvényekkel), akkor ezzel __egyedi típusokat__ hozunk létre, ezeket nevezzük __osztályoknak__."
   ]
  },
  {
   "cell_type": "markdown",
   "metadata": {},
   "source": [
    "A már megismert típusaink is osztályok: a sztring osztályban tárolt adat egy karaktersorozat, és a típushoz kapcsolódó műveletek pl. a _split_, az _upper_, stb., az int osztályban tárolt adat egy egész szám, kapcsolódó műveletek pl. az összeadás, szorzás, stb."
   ]
  },
  {
   "cell_type": "markdown",
   "metadata": {},
   "source": [
    "__Objektum-orientált programozásnak (OOP)__ nevezzük azt a hozzáállást, hogy a programunk egyedi típusokat definiál az általa kezelendő adatokhoz, egy-egy ilyen típus pedig megmondja, hogy az adott objektumhoz milyen __függvények__ (eljárások, műveletek) és milyen __attribútumok__ (tulajdonságok, adatok) tartoznak. Az ilyen egyedi típusokat __osztályoknak__ nevezzük. A már megismert típusok (sztring, int, stb.) is osztályok."
   ]
  },
  {
   "cell_type": "markdown",
   "metadata": {},
   "source": [
    "_Nézzük meg újra az első heti receptes példát! Milyen egyedi típusokat definiálhatnánk, hogy könnyebben fejezhessük ki a receptben szereplő instrukciókat?_"
   ]
  },
  {
   "cell_type": "markdown",
   "metadata": {},
   "source": [
    "Definiáljunk egy osztályt, ami mozifilmeket tárol. Induljunk ki az első, egyszerűbb adatokból, és gondoljuk végig, milyen attribútumokra és milyen függvényekre lesz szükségünk. Egy-egy filmnek háom tulajdonsága lesz: cím, évszám, műfajok, ezek típusai rendre sztring, int és lista. Hogy milyen műveleteket definiálunk , az attól függ, mit szeretnénk majd csinálni a filmekkel, egy ilyen művelet lehet pl. megnézni, hogy egy adott műfajba beletartozik-e a film."
   ]
  },
  {
   "cell_type": "code",
   "execution_count": 1,
   "metadata": {
    "collapsed": false
   },
   "outputs": [],
   "source": [
    "class Film():\n",
    "    def __init__(self, cim, ev, mufajok):\n",
    "        self.cim = cim\n",
    "        self.ev = ev\n",
    "        self.mufajok = mufajok"
   ]
  },
  {
   "cell_type": "markdown",
   "metadata": {},
   "source": [
    "Egy osztály definíciója a __class__ kulcssszóval kezdődik, az osztályok nevét nagybetűvel írjuk, hogy megkülönböztessük minden mástól. A definíció az osztályhoz tartozó függvények definícióit tartalmazza. Kitüntetett szerepe van az __\\_\\_init\\_\\___ függvénynek: ez mondja meg, hogy milyen paraméterekből és hogyan kell előállítani egy adott osztályba tartozó objektumot. Az osztályok függvényeinek első argumentuma mindig maga az objektum, és ezt az argumentumot mindig __self__-nek fogjuk nevezni."
   ]
  },
  {
   "cell_type": "markdown",
   "metadata": {},
   "source": [
    "A fenti definíció már elég is ahhoz, hogy létre tudjunk hozni _Movie_ típusú objektumokat, mégpedig három paraméter megadásával. Ezt a három paramétert az objektum tárolni fogja, azokra ezentúl lehet hivatkozni:"
   ]
  },
  {
   "cell_type": "code",
   "execution_count": 2,
   "metadata": {
    "collapsed": false
   },
   "outputs": [],
   "source": [
    "film1 = Film(\"Toy Story\", 1994, ['animation', 'comedy', 'children'])"
   ]
  },
  {
   "cell_type": "code",
   "execution_count": 3,
   "metadata": {
    "collapsed": false
   },
   "outputs": [
    {
     "data": {
      "text/plain": [
       "'Toy Story'"
      ]
     },
     "execution_count": 3,
     "metadata": {},
     "output_type": "execute_result"
    }
   ],
   "source": [
    "film1.cim"
   ]
  },
  {
   "cell_type": "code",
   "execution_count": 4,
   "metadata": {
    "collapsed": false
   },
   "outputs": [
    {
     "data": {
      "text/plain": [
       "1994"
      ]
     },
     "execution_count": 4,
     "metadata": {},
     "output_type": "execute_result"
    }
   ],
   "source": [
    "film1.ev"
   ]
  },
  {
   "cell_type": "code",
   "execution_count": 5,
   "metadata": {
    "collapsed": false
   },
   "outputs": [
    {
     "data": {
      "text/plain": [
       "['animation', 'comedy', 'children']"
      ]
     },
     "execution_count": 5,
     "metadata": {},
     "output_type": "execute_result"
    }
   ],
   "source": [
    "film1.mufajok"
   ]
  },
  {
   "cell_type": "markdown",
   "metadata": {},
   "source": [
    "Ha nem is megyünk tovább, csak ezentúl a filmjeinket háromelemű listák helyett Movie objektumokként tároljuk, már akkor is kényelmesebben tudunk velük dolgozni. Írjunk olyan beolvasót az adthoz, ami ilyen objektumokat hoz létre:"
   ]
  },
  {
   "cell_type": "code",
   "execution_count": 6,
   "metadata": {
    "collapsed": true
   },
   "outputs": [],
   "source": [
    "def filmeket_beolvas(fajlnev):\n",
    "    filmek = []\n",
    "    for sor in open(fajlnev):\n",
    "        mezok = sor.strip().split('\\t')\n",
    "        cim = mezok[0].strip()\n",
    "        ev = int(mezok[1])\n",
    "        mufajok = mezok[2].split(',')\n",
    "        film = Film(cim, ev, mufajok)\n",
    "        filmek.append(film)\n",
    "    return filmek        "
   ]
  },
  {
   "cell_type": "code",
   "execution_count": 7,
   "metadata": {
    "collapsed": true
   },
   "outputs": [],
   "source": [
    "filmek = filmeket_beolvas(\"data/movies.tsv\")"
   ]
  },
  {
   "cell_type": "code",
   "execution_count": 8,
   "metadata": {
    "collapsed": false
   },
   "outputs": [
    {
     "data": {
      "text/plain": [
       "[<__main__.Film at 0x7f8f78b2dbe0>,\n",
       " <__main__.Film at 0x7f8f78b2dc50>,\n",
       " <__main__.Film at 0x7f8f78b2dc18>]"
      ]
     },
     "execution_count": 8,
     "metadata": {},
     "output_type": "execute_result"
    }
   ],
   "source": [
    "filmek[:3]"
   ]
  },
  {
   "cell_type": "markdown",
   "metadata": {},
   "source": [
    "Az így beolvasott objektumokon nem látszik rögtön, hogy micsodák, csak az, hogy Film típusú objektumok. Mindnek használhatjuk azonban az attribútumait:"
   ]
  },
  {
   "cell_type": "code",
   "execution_count": 9,
   "metadata": {
    "collapsed": false
   },
   "outputs": [
    {
     "data": {
      "text/plain": [
       "'Toy Story'"
      ]
     },
     "execution_count": 9,
     "metadata": {},
     "output_type": "execute_result"
    }
   ],
   "source": [
    "filmek[0].cim"
   ]
  },
  {
   "cell_type": "code",
   "execution_count": 10,
   "metadata": {
    "collapsed": false
   },
   "outputs": [
    {
     "data": {
      "text/plain": [
       "['animation', 'children', 'comedy']"
      ]
     },
     "execution_count": 10,
     "metadata": {},
     "output_type": "execute_result"
    }
   ],
   "source": [
    "filmek[0].mufajok"
   ]
  },
  {
   "cell_type": "markdown",
   "metadata": {},
   "source": [
    "Az osztály definíciója tartalmazhat függvényeket is, amik az adott típusú objektumokon végrehajtandó műveleteket ad meg. Például egy Film típusú objektumról meg akarjuk tudni kérdezni, hogy egy adott műfajba beletartozik-e. Ekkor egy ilyen célú függvényt is írunk a Film osztály definíciójába:"
   ]
  },
  {
   "cell_type": "code",
   "execution_count": 11,
   "metadata": {
    "collapsed": true
   },
   "outputs": [],
   "source": [
    "class Film():\n",
    "    def __init__(self, cim, ev, mufajok):\n",
    "        self.cim = cim\n",
    "        self.ev = ev\n",
    "        self.mufajok = mufajok\n",
    "    \n",
    "    def mufajba_tartozik(self, mufaj):\n",
    "        if mufaj in self.mufajok:\n",
    "            return True\n",
    "        else:\n",
    "            return False"
   ]
  },
  {
   "cell_type": "code",
   "execution_count": 12,
   "metadata": {
    "collapsed": true
   },
   "outputs": [],
   "source": [
    "filmek = filmeket_beolvas(\"data/movies.tsv\")"
   ]
  },
  {
   "cell_type": "markdown",
   "metadata": {},
   "source": [
    "Ekkor rögtön bármelyik filmről meg tudjuk kérdezni, hogy pl. western-e:"
   ]
  },
  {
   "cell_type": "code",
   "execution_count": 13,
   "metadata": {
    "collapsed": false
   },
   "outputs": [
    {
     "data": {
      "text/plain": [
       "False"
      ]
     },
     "execution_count": 13,
     "metadata": {},
     "output_type": "execute_result"
    }
   ],
   "source": [
    "filmek[0].mufajba_tartozik(\"western\")"
   ]
  },
  {
   "cell_type": "markdown",
   "metadata": {},
   "source": [
    "És könnyedén kiválogathatjuk az adott műfajú filmeket:"
   ]
  },
  {
   "cell_type": "code",
   "execution_count": 14,
   "metadata": {
    "collapsed": true
   },
   "outputs": [],
   "source": [
    "def mufaj_valaszto(film_lista, mufaj):\n",
    "    szurt = []\n",
    "    for film in film_lista:\n",
    "        if film.mufajba_tartozik(mufaj):\n",
    "            szurt.append(film)\n",
    "    return szurt"
   ]
  },
  {
   "cell_type": "code",
   "execution_count": 15,
   "metadata": {
    "collapsed": true
   },
   "outputs": [],
   "source": [
    "szurt_filmek = mufaj_valaszto(filmek, \"western\")"
   ]
  },
  {
   "cell_type": "code",
   "execution_count": 16,
   "metadata": {
    "collapsed": false
   },
   "outputs": [
    {
     "data": {
      "text/plain": [
       "'Legends of the Fall'"
      ]
     },
     "execution_count": 16,
     "metadata": {},
     "output_type": "execute_result"
    }
   ],
   "source": [
    "szurt_filmek[0].cim"
   ]
  },
  {
   "cell_type": "markdown",
   "metadata": {},
   "source": [
    "Definálhatunk még egy műveletet, ami szépen kiírja egy film összes tulajdonságát:"
   ]
  },
  {
   "cell_type": "code",
   "execution_count": 17,
   "metadata": {
    "collapsed": true
   },
   "outputs": [],
   "source": [
    "class Film():\n",
    "    def __init__(self, cim, ev, mufajok):\n",
    "        self.cim = cim\n",
    "        self.ev = ev\n",
    "        self.mufajok = mufajok\n",
    "    \n",
    "    def mufajba_tartozik(self, mufaj):\n",
    "        if mufaj in self.mufajok:\n",
    "            return True\n",
    "        else:\n",
    "            return False\n",
    "    \n",
    "    def kiir(self):\n",
    "        print(\"Cím:\", self.cim)\n",
    "        print(\"Év:\", self.ev)\n",
    "        print(\"Műfajok:\", \", \".join(self.mufajok))"
   ]
  },
  {
   "cell_type": "code",
   "execution_count": 18,
   "metadata": {
    "collapsed": true
   },
   "outputs": [],
   "source": [
    "filmek = filmeket_beolvas(\"data/movies.tsv\")"
   ]
  },
  {
   "cell_type": "code",
   "execution_count": 19,
   "metadata": {
    "collapsed": true
   },
   "outputs": [],
   "source": [
    "szurt_filmek = mufaj_valaszto(filmek, \"western\")"
   ]
  },
  {
   "cell_type": "code",
   "execution_count": 20,
   "metadata": {
    "collapsed": false
   },
   "outputs": [
    {
     "name": "stdout",
     "output_type": "stream",
     "text": [
      "Cím: Legends of the Fall\n",
      "Év: 1994\n",
      "Műfajok: drama, romance, war, western\n"
     ]
    }
   ],
   "source": [
    "szurt_filmek[0].kiir()"
   ]
  },
  {
   "cell_type": "code",
   "execution_count": 21,
   "metadata": {
    "collapsed": false
   },
   "outputs": [
    {
     "name": "stdout",
     "output_type": "stream",
     "text": [
      "Cím: Maverick\n",
      "Év: 1994\n",
      "Műfajok: action, comedy, western\n"
     ]
    }
   ],
   "source": [
    "szurt_filmek[1].kiir()"
   ]
  },
  {
   "cell_type": "markdown",
   "metadata": {},
   "source": [
    "Definiáljunk egy másik osztályt, ami a Harry Potter karaktereket tárolja. Ekkor az osztály egy függvényére bízhatjuk a nevek helyes feldarabolását:"
   ]
  },
  {
   "cell_type": "code",
   "execution_count": 22,
   "metadata": {
    "collapsed": true
   },
   "outputs": [],
   "source": [
    "class HPCharacter():\n",
    "    def __init__(self, nev, leiras):\n",
    "        self.nevet_feldolgoz(nev)\n",
    "        self.leiras = leiras\n",
    "\n",
    "    def nevet_feldolgoz(self, nev):\n",
    "        szavak = nev.strip('\"').split()\n",
    "        if len(szavak) == 1:\n",
    "            self.vezeteknev = szavak[0]\n",
    "        else:\n",
    "            try:\n",
    "                self.keresztnev, self.vezeteknev = szavak\n",
    "            except ValueError:\n",
    "                self.vezeteknev = szavak[-1]\n",
    "                self.keresztnev = \" \".join(szavak[:-1])\n",
    "    \n",
    "    def kiir(self):\n",
    "        print(\"Vezetéknév:\", self.vezeteknev)\n",
    "        print(\"Keresztnév:\", self.keresztnev)\n",
    "        print(\"Leírás:\", self.leiras)"
   ]
  },
  {
   "cell_type": "code",
   "execution_count": 23,
   "metadata": {
    "collapsed": true
   },
   "outputs": [],
   "source": [
    "def hp_beolvas(fajl):\n",
    "    karakterek = []\n",
    "    f = open(fajl, 'r', encoding=\"utf-8\")\n",
    "    for line in f:\n",
    "        nev, leiras = line.strip().split('\\t')\n",
    "        karakter = HPCharacter(nev, leiras)\n",
    "        karakterek.append(karakter)\n",
    "    return karakterek"
   ]
  },
  {
   "cell_type": "code",
   "execution_count": 24,
   "metadata": {
    "collapsed": true
   },
   "outputs": [],
   "source": [
    "karakterek = hp_beolvas('data/hp_characters.tsv')"
   ]
  },
  {
   "cell_type": "code",
   "execution_count": 25,
   "metadata": {
    "collapsed": false
   },
   "outputs": [
    {
     "name": "stdout",
     "output_type": "stream",
     "text": [
      "Vezetéknév: Black\n",
      "Keresztnév: Regulus Arcturus\n",
      "Leírás: Brother of Sirius. Used to be a Death Eater but defected.\n"
     ]
    }
   ],
   "source": [
    "karakterek[0].kiir()"
   ]
  },
  {
   "cell_type": "markdown",
   "metadata": {},
   "source": [
    "Kitalálhatunk aztán olyan műveletet is, ami két karakterről megmondja, hogy rokonok-e (a vezetéknevük alapján):"
   ]
  },
  {
   "cell_type": "code",
   "execution_count": 26,
   "metadata": {
    "collapsed": true
   },
   "outputs": [],
   "source": [
    "class HPCharacter():\n",
    "    def __init__(self, nev, leiras):\n",
    "        self.nevet_feldolgoz(nev)\n",
    "        self.leiras = leiras\n",
    "\n",
    "    def nevet_feldolgoz(self, nev):\n",
    "        szavak = nev.strip('\"').split()\n",
    "        if len(szavak) == 1:\n",
    "            self.vezeteknev = szavak[0]\n",
    "        else:\n",
    "            try:\n",
    "                self.keresztnev, self.vezeteknev = szavak\n",
    "            except ValueError:\n",
    "                self.vezeteknev = szavak[-1]\n",
    "                self.keresztnev = \" \".join(szavak[:-1])\n",
    "    \n",
    "    def kiir(self):\n",
    "        print(\"Vezetéknév:\", self.vezeteknev)\n",
    "        print(\"Keresztnév:\", self.keresztnev)\n",
    "        print(\"Leírás:\", self.leiras)\n",
    "        \n",
    "    def rokon_e(self, masik_karakter):\n",
    "        if self.vezeteknev == masik_karakter.vezeteknev:\n",
    "            return True\n",
    "        else:\n",
    "            return False"
   ]
  },
  {
   "cell_type": "code",
   "execution_count": 27,
   "metadata": {
    "collapsed": true
   },
   "outputs": [],
   "source": [
    "karakterek = hp_beolvas('data/hp_characters.tsv')"
   ]
  },
  {
   "cell_type": "code",
   "execution_count": 28,
   "metadata": {
    "collapsed": false
   },
   "outputs": [
    {
     "data": {
      "text/plain": [
       "True"
      ]
     },
     "execution_count": 28,
     "metadata": {},
     "output_type": "execute_result"
    }
   ],
   "source": [
    "karakterek[0].rokon_e(karakterek[1])"
   ]
  },
  {
   "cell_type": "code",
   "execution_count": 29,
   "metadata": {
    "collapsed": false
   },
   "outputs": [
    {
     "name": "stdout",
     "output_type": "stream",
     "text": [
      "Vezetéknév: Black\n",
      "Keresztnév: Sirius\n",
      "Leírás: Best friend of James Potter and godfather of Harry.\n"
     ]
    }
   ],
   "source": [
    "karakterek[1].kiir()"
   ]
  },
  {
   "cell_type": "markdown",
   "metadata": {},
   "source": [
    "Erre építve aztán olyan függvényt is írhatunk, ami összegyűjti egy karakter \"családját\", ha átadjuk neki az összes karakter listáját:"
   ]
  },
  {
   "cell_type": "code",
   "execution_count": 30,
   "metadata": {
    "collapsed": true
   },
   "outputs": [],
   "source": [
    "class HPCharacter():\n",
    "    def __init__(self, nev, leiras):\n",
    "        self.nevet_feldolgoz(nev)\n",
    "        self.leiras = leiras\n",
    "\n",
    "    def nevet_feldolgoz(self, nev):\n",
    "        szavak = nev.strip('\"').split()\n",
    "        if len(szavak) == 1:\n",
    "            self.vezeteknev = szavak[0]\n",
    "        else:\n",
    "            try:\n",
    "                self.keresztnev, self.vezeteknev = szavak\n",
    "            except ValueError:\n",
    "                self.vezeteknev = szavak[-1]\n",
    "                self.keresztnev = \" \".join(szavak[:-1])\n",
    "    \n",
    "    def kiir(self):\n",
    "        print(\"Vezetéknév:\", self.vezeteknev)\n",
    "        print(\"Keresztnév:\", self.keresztnev)\n",
    "        print(\"Leírás:\", self.leiras)\n",
    "        \n",
    "    def rokon_e(self, masik_karakter):\n",
    "        if self.vezeteknev == masik_karakter.vezeteknev:\n",
    "            return True\n",
    "        else:\n",
    "            return False\n",
    "    \n",
    "    def csalad(self, tobbi_karakter):\n",
    "        lista = []\n",
    "        for karakter in tobbi_karakter:\n",
    "            if self.rokon_e(karakter):\n",
    "                lista.append(karakter)\n",
    "        return lista"
   ]
  },
  {
   "cell_type": "code",
   "execution_count": 31,
   "metadata": {
    "collapsed": true
   },
   "outputs": [],
   "source": [
    "karakterek = hp_beolvas('data/hp_characters.tsv')"
   ]
  },
  {
   "cell_type": "code",
   "execution_count": 32,
   "metadata": {
    "collapsed": false
   },
   "outputs": [
    {
     "name": "stdout",
     "output_type": "stream",
     "text": [
      "Vezetéknév: Black\n",
      "Keresztnév: Regulus Arcturus\n",
      "Leírás: Brother of Sirius. Used to be a Death Eater but defected.\n"
     ]
    }
   ],
   "source": [
    "karakterek[0].kiir()"
   ]
  },
  {
   "cell_type": "code",
   "execution_count": 33,
   "metadata": {
    "collapsed": false
   },
   "outputs": [],
   "source": [
    "ginny = karakterek[55]"
   ]
  },
  {
   "cell_type": "code",
   "execution_count": 34,
   "metadata": {
    "collapsed": false
   },
   "outputs": [
    {
     "name": "stdout",
     "output_type": "stream",
     "text": [
      "Vezetéknév: Weasley\n",
      "Keresztnév: Ginny\n",
      "Leírás: Marries Harry Potter and only daughter of Molly and Arthur.\n"
     ]
    }
   ],
   "source": [
    "ginny.kiir()"
   ]
  },
  {
   "cell_type": "code",
   "execution_count": 35,
   "metadata": {
    "collapsed": false
   },
   "outputs": [],
   "source": [
    "weasleyk = ginny.csalad(karakterek)"
   ]
  },
  {
   "cell_type": "code",
   "execution_count": 36,
   "metadata": {
    "collapsed": false
   },
   "outputs": [
    {
     "name": "stdout",
     "output_type": "stream",
     "text": [
      "Vezetéknév: Weasley\n",
      "Keresztnév: Arthur\n",
      "Leírás: Father of the Weasleys and member of the Order of the Phoenix.\n",
      "Vezetéknév: Weasley\n",
      "Keresztnév: Bill\n",
      "Leírás: Oldest son of Arthur and Molly. Husband of Fleur.\n",
      "Vezetéknév: Weasley\n",
      "Keresztnév: Charlie\n",
      "Leírás: Second son of Arthur and Molly. Works with dragons in Romania.\n",
      "Vezetéknév: Weasley\n",
      "Keresztnév: Fred\n",
      "Leírás: Identical twin with George and co-owner of Weasleys' Wizard Wheezes\n",
      "Vezetéknév: Weasley\n",
      "Keresztnév: George\n",
      "Leírás: Identical twin with Fred and co-owner of Weasleys' Wizard Wheezes\n",
      "Vezetéknév: Weasley\n",
      "Keresztnév: Ginny\n",
      "Leírás: Marries Harry Potter and only daughter of Molly and Arthur.\n",
      "Vezetéknév: Weasley\n",
      "Keresztnév: Molly\n",
      "Leírás: Wife of Arthur and mother of the Weasleys. Kills Bellatrix.\n",
      "Vezetéknév: Weasley\n",
      "Keresztnév: Percy\n",
      "Leírás: Third son of Arthur and Molly. He is a Gryffindor prefect.\n",
      "Vezetéknév: Weasley\n",
      "Keresztnév: Ron\n",
      "Leírás: Harry's best friend. Marries Hermione.\n"
     ]
    }
   ],
   "source": [
    "for karakter in weasleyk:\n",
    "    karakter.kiir()"
   ]
  },
  {
   "cell_type": "markdown",
   "metadata": {},
   "source": [
    "__10.1. FELADAT__\n",
    "Definiálj egy Hallgato nevű osztályt, ami tárolja egy hallgató vezeték- és keresztnevét, valamint születési dátumát (év, hónap, nap). Hozz létre három példányt, egyet a saját adataiddal, egyet-egyet pedig a körülötted ülőkével! Mindhárom példányt tedd be egy hallgatok nevű listába!"
   ]
  },
  {
   "cell_type": "code",
   "execution_count": null,
   "metadata": {
    "collapsed": true
   },
   "outputs": [],
   "source": []
  },
  {
   "cell_type": "markdown",
   "metadata": {},
   "source": [
    "__10.2. FELADAT__ Írj a Hallgato osztályhoz egy _nevjegy_ függvényt, ami szépen megjeleníti a hallgató adatait."
   ]
  },
  {
   "cell_type": "code",
   "execution_count": null,
   "metadata": {
    "collapsed": true
   },
   "outputs": [],
   "source": []
  },
  {
   "cell_type": "markdown",
   "metadata": {},
   "source": [
    "__10.3. FELADAT__ Írj olyan függvényt a Hallgato osztályhoz, ami megadja, hány éves az adott hallgató. Beleírhatod a kódba, hogy most 2016 van. Ezután módosítsd a nevjegy függvényt, hogy kiírja az életkort is!"
   ]
  },
  {
   "cell_type": "code",
   "execution_count": null,
   "metadata": {
    "collapsed": true
   },
   "outputs": [],
   "source": []
  },
  {
   "cell_type": "markdown",
   "metadata": {},
   "source": [
    "__10.4. FELADAT__ Írj olyan függvényt a Hallgato osztályhoz, ami megmondja, hogy egy másik hallgató idősebb-e nála"
   ]
  },
  {
   "cell_type": "code",
   "execution_count": null,
   "metadata": {
    "collapsed": true
   },
   "outputs": [],
   "source": []
  },
  {
   "cell_type": "markdown",
   "metadata": {},
   "source": [
    "__10.5. FELADAT__\n",
    "Írj olyan függvényt, ami megkérdezi a felhasználó adatait és elkészít egy példányt a Hallgato osztályból, amit betesz a hallgatok listába. Ha működik, kérj meg valakit, hogy \"töltse ki\"."
   ]
  },
  {
   "cell_type": "code",
   "execution_count": null,
   "metadata": {
    "collapsed": true
   },
   "outputs": [],
   "source": []
  },
  {
   "cell_type": "markdown",
   "metadata": {},
   "source": [
    "__\\*10.6. FELADAT (pluszpontért beadható! Határidő: 2016. december 7. 08:00)__ Írj olyan függvényt, ami kiválasztja a hallgatok listából a legfiatalabb hallgatót! Használd a Hallgato osztály eddig megírt függvényeit és/vagy attribútumait! Több megoldás is lehetséges!"
   ]
  },
  {
   "cell_type": "code",
   "execution_count": null,
   "metadata": {
    "collapsed": true
   },
   "outputs": [],
   "source": []
  },
  {
   "cell_type": "markdown",
   "metadata": {},
   "source": [
    "__\\*10.7 FELADAT (pluszpontért beadható! Határidő: 2016. december 7. 08:00)__ Definiálj egy Evfolyam nevű osztályt, ami Hallgato obejktumok listáját tárolja. Legyen egy függvénye, ami megadja az évfolyam létszámát, egy másik pedig az átlagéletkort!"
   ]
  },
  {
   "cell_type": "code",
   "execution_count": null,
   "metadata": {
    "collapsed": true
   },
   "outputs": [],
   "source": []
  }
 ],
 "metadata": {
  "kernelspec": {
   "display_name": "Python 3",
   "language": "python",
   "name": "python3"
  },
  "language_info": {
   "codemirror_mode": {
    "name": "ipython",
    "version": 3
   },
   "file_extension": ".py",
   "mimetype": "text/x-python",
   "name": "python",
   "nbconvert_exporter": "python",
   "pygments_lexer": "ipython3",
   "version": "3.5.2"
  }
 },
 "nbformat": 4,
 "nbformat_minor": 1
}
