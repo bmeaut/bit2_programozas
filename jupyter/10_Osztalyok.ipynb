{
 "cells": [
  {
   "cell_type": "markdown",
   "metadata": {},
   "source": [
    "## 10. Osztályok"
   ]
  },
  {
   "cell_type": "markdown",
   "metadata": {},
   "source": [
    "Az alapvető típusok (int, float, sztring, lista, tuple, dictionary) megfelelő kombinálásával már egészen összetett adatstruktúrákat tudtunk létrehozni, függvények definiálásával pedig bármilyen műveletsorból tudunk már \"építőkockát\" gyártani, így egy bonyolultabb programot is egyszerűbb, kisebb programok kombinálásával tudunk megírni."
   ]
  },
  {
   "cell_type": "markdown",
   "metadata": {},
   "source": [
    "Amikor egy egyedi adatstruktúrát összekapcsolunk a hozzátartozó egyedi műveletekkel (függvényekkel), akkor ezzel __egyedi típusokat__ hozunk létre, ezeket nevezzük __osztályoknak__."
   ]
  },
  {
   "cell_type": "markdown",
   "metadata": {},
   "source": [
    "A már megismert típusaink is osztályok: a sztring osztályban tárolt adat egy karaktersorozat, és a típushoz kapcsolódó műveletek pl. a _split_, az _upper_, stb., az int osztályban tárolt adat egy egész szám, kapcsolódó műveletek pl. az összeadás, szorzás, stb."
   ]
  },
  {
   "cell_type": "markdown",
   "metadata": {},
   "source": [
    "__Objektum-orientált programozásnak (OOP)__ nevezzük azt a hozzáállást, hogy a programunk egyedi típusokat definiál az általa kezelendő adatokhoz, egy-egy ilyen típus pedig megmondja, hogy az adott objektumhoz milyen __függvények__ (eljárások, műveletek) és milyen __attribútumok__ (tulajdonságok, adatok) tartoznak. Az ilyen egyedi típusokat __osztályoknak__ nevezzük. A már megismert típusok (sztring, int, stb.) is osztályok."
   ]
  },
  {
   "cell_type": "markdown",
   "metadata": {},
   "source": [
    "_Nézzük meg újra az első heti receptes példát! Milyen egyedi típusokat definiálhatnánk, hogy könnyebben fejezhessük ki a receptben szereplő instrukciókat?_"
   ]
  },
  {
   "cell_type": "markdown",
   "metadata": {},
   "source": [
    "Definiáljunk egy osztályt, ami mozifilmeket tárol. Induljunk ki az első, egyszerűbb adatokból, és gondoljuk végig, milyen attribútumokra és milyen függvényekre lesz szükségünk. Egy-egy filmnek háom tulajdonsága lesz: cím, évszám, műfajok, ezek típusai rendre sztring, int és lista. Hogy milyen műveleteket definiálunk , az attól függ, mit szeretnénk majd csinálni a filmekkel, egy ilyen művelet lehet pl. megnézni, hogy egy adott műfajba beletartozik-e a film."
   ]
  },
  {
   "cell_type": "code",
   "execution_count": 9,
   "metadata": {
    "collapsed": false
   },
   "outputs": [],
   "source": [
    "class Film():\n",
    "    def __init__(self, cim, ev, mufajok):\n",
    "        self.cim = cim\n",
    "        self.ev = ev\n",
    "        self.mufajok = mufajok"
   ]
  },
  {
   "cell_type": "markdown",
   "metadata": {},
   "source": [
    "Egy osztály definíciója a __class__ kulcssszóval kezdődik, az osztályok nevét nagybetűvel írjuk, hogy megkülönböztessük minden mástól. A definíció az osztályhoz tartozó függvények definícióit tartalmazza. Kitüntetett szerepe van az __\\_\\_init\\_\\___ függvénynek: ez mondja meg, hogy milyen paraméterekből és hogyan kell előállítani egy adott osztályba tartozó objektumot. Az osztályok függvényeinek első argumentuma mindig maga az objektum, és ezt az argumentumot mindig __self__-nek fogjuk nevezni."
   ]
  },
  {
   "cell_type": "markdown",
   "metadata": {},
   "source": [
    "A fenti definíció már elég is ahhoz, hogy létre tudjunk hozni _Movie_ típusú objektumokat, mégpedig három paraméter megadásával. Ezt a három paramétert az objektum tárolni fogja, azokra ezentúl lehet hivatkozni:"
   ]
  },
  {
   "cell_type": "code",
   "execution_count": 10,
   "metadata": {
    "collapsed": false
   },
   "outputs": [],
   "source": [
    "film1 = Film(\"Toy Story\", 1994, ['animation', 'comedy', 'children'])"
   ]
  },
  {
   "cell_type": "code",
   "execution_count": 11,
   "metadata": {
    "collapsed": false
   },
   "outputs": [
    {
     "data": {
      "text/plain": [
       "'Toy Story'"
      ]
     },
     "execution_count": 11,
     "metadata": {},
     "output_type": "execute_result"
    }
   ],
   "source": [
    "film1.cim"
   ]
  },
  {
   "cell_type": "code",
   "execution_count": 12,
   "metadata": {
    "collapsed": false
   },
   "outputs": [
    {
     "data": {
      "text/plain": [
       "1994"
      ]
     },
     "execution_count": 12,
     "metadata": {},
     "output_type": "execute_result"
    }
   ],
   "source": [
    "film1.ev"
   ]
  },
  {
   "cell_type": "code",
   "execution_count": 13,
   "metadata": {
    "collapsed": false
   },
   "outputs": [
    {
     "data": {
      "text/plain": [
       "['animation', 'comedy', 'children']"
      ]
     },
     "execution_count": 13,
     "metadata": {},
     "output_type": "execute_result"
    }
   ],
   "source": [
    "film1.mufajok"
   ]
  },
  {
   "cell_type": "markdown",
   "metadata": {},
   "source": [
    "Ha nem is megyünk tovább, csak ezentúl a filmjeinket háromelemű listák helyett Movie objektumokként tároljuk, már akkor is kényelmesebben tudunk velük dolgozni. Írjunk olyan beolvasót az adthoz, ami ilyen objektumokat hoz létre:"
   ]
  },
  {
   "cell_type": "code",
   "execution_count": 14,
   "metadata": {
    "collapsed": true
   },
   "outputs": [],
   "source": [
    "def filmeket_beolvas(fajlnev):\n",
    "    filmek = []\n",
    "    for sor in open(fajlnev):\n",
    "        mezok = sor.strip().split('\\t')\n",
    "        cim = mezok[0].strip()\n",
    "        ev = int(mezok[1])\n",
    "        mufajok = mezok[2].split(',')\n",
    "        film = Film(cim, ev, mufajok)\n",
    "        filmek.append(film)\n",
    "    return filmek        "
   ]
  },
  {
   "cell_type": "code",
   "execution_count": 15,
   "metadata": {
    "collapsed": true
   },
   "outputs": [],
   "source": [
    "filmek = filmeket_beolvas(\"data/movies.tsv\")"
   ]
  },
  {
   "cell_type": "code",
   "execution_count": 16,
   "metadata": {
    "collapsed": false
   },
   "outputs": [
    {
     "data": {
      "text/plain": [
       "[<__main__.Film at 0x7f82d472a160>,\n",
       " <__main__.Film at 0x7f82d472a1d0>,\n",
       " <__main__.Film at 0x7f82d472a198>]"
      ]
     },
     "execution_count": 16,
     "metadata": {},
     "output_type": "execute_result"
    }
   ],
   "source": [
    "filmek[:3]"
   ]
  },
  {
   "cell_type": "markdown",
   "metadata": {},
   "source": [
    "Az így beolvasott objektumokon nem látszik rögtön, hogy micsodák, csak az, hogy Film típusú objektumok. Mindnek használhatjuk azonban az attribútumait:"
   ]
  },
  {
   "cell_type": "code",
   "execution_count": 18,
   "metadata": {
    "collapsed": false
   },
   "outputs": [
    {
     "data": {
      "text/plain": [
       "'Toy Story'"
      ]
     },
     "execution_count": 18,
     "metadata": {},
     "output_type": "execute_result"
    }
   ],
   "source": [
    "filmek[0].cim"
   ]
  },
  {
   "cell_type": "code",
   "execution_count": null,
   "metadata": {
    "collapsed": true
   },
   "outputs": [],
   "source": []
  }
 ],
 "metadata": {
  "kernelspec": {
   "display_name": "Python 3",
   "language": "python",
   "name": "python3"
  },
  "language_info": {
   "codemirror_mode": {
    "name": "ipython",
    "version": 3
   },
   "file_extension": ".py",
   "mimetype": "text/x-python",
   "name": "python",
   "nbconvert_exporter": "python",
   "pygments_lexer": "ipython3",
   "version": "3.5.2"
  }
 },
 "nbformat": 4,
 "nbformat_minor": 1
}
