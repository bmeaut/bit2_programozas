{
 "cells": [
  {
   "cell_type": "markdown",
   "metadata": {},
   "source": [
    "# 11. Egy objektum-orientált program felépítése"
   ]
  },
  {
   "cell_type": "markdown",
   "metadata": {},
   "source": [
    "Az előző anyagrészben láttuk, hogyan tudunk az igényeinknek megfelelő új adattípusokat, ún. osztályokat definiálni. Egy összetett programban minden __adattípusnak__ megfelel egy osztály, tehát a program tervezésekor azt kell eldöntenünk, hogy milyen __objektumokra__ lesz szükségünk, ezeknek milyen __tulajdonságait__ definiáljuk, és milyen __műveleteket__ akarunk végezni velük. Az adattípusokat nevezzük osztályoknak, a tulajdonságaikat  __attribútumoknak__, a velük végezhető műveleteket __függvényeknek__."
   ]
  },
  {
   "cell_type": "markdown",
   "metadata": {},
   "source": [
    "A 10-es notebook példáiban a Film és a HPCharacter osztályokat definiáltuk."
   ]
  },
  {
   "cell_type": "markdown",
   "metadata": {},
   "source": [
    "Egy Film osztályba tartozó objektumnak (vagyis egy filmnek) három tulajdonsága volt: címe, éve, és műfajainak listája. A filmekkel végezhető művelet volt például a kiírás, illetve annak eldöntése, hogy adott műfajba tartozik-e. Emlékeztetőül a definíció:"
   ]
  },
  {
   "cell_type": "code",
   "execution_count": null,
   "metadata": {
    "collapsed": true
   },
   "outputs": [],
   "source": [
    "class Film():\n",
    "    def __init__(self, cim, ev, mufajok):\n",
    "        self.cim = cim\n",
    "        self.ev = ev\n",
    "        self.mufajok = mufajok\n",
    "    \n",
    "    def mufajba_tartozik(self, mufaj):\n",
    "        if mufaj in self.mufajok:\n",
    "            return True\n",
    "        else:\n",
    "            return False\n",
    "    \n",
    "    def kiir(self):\n",
    "        print(\"Cím:\", self.cim)\n",
    "        print(\"Év:\", self.ev)\n",
    "        print(\"Műfajok:\", \", \".join(self.mufajok))"
   ]
  },
  {
   "cell_type": "markdown",
   "metadata": {},
   "source": [
    "Egy HPCharacter osztályba tartozó objektumnak (vagyis egy Harry Potter karakternek) is három tulajdonsága volt: vezetékneve, keresztneve és leírása. Egy velük végezhető művelet volt például annak eldöntése, hogy két karakternek egyezik-e a vezetékneve:"
   ]
  },
  {
   "cell_type": "code",
   "execution_count": 1,
   "metadata": {
    "collapsed": true
   },
   "outputs": [],
   "source": [
    "class HPCharacter():\n",
    "    def __init__(self, nev, leiras):\n",
    "        self.nevet_feldolgoz(nev)\n",
    "        self.leiras = leiras\n",
    "\n",
    "    def nevet_feldolgoz(self, nev):\n",
    "        szavak = nev.strip('\"').split()\n",
    "        if len(szavak) == 1:\n",
    "            self.vezeteknev = szavak[0]\n",
    "        else:\n",
    "            try:\n",
    "                self.keresztnev, self.vezeteknev = szavak\n",
    "            except ValueError:\n",
    "                self.vezeteknev = szavak[-1]\n",
    "                self.keresztnev = \" \".join(szavak[:-1])\n",
    "    \n",
    "    def kiir(self):\n",
    "        print(\"Vezetéknév:\", self.vezeteknev)\n",
    "        print(\"Keresztnév:\", self.keresztnev)\n",
    "        print(\"Leírás:\", self.leiras)\n",
    "        \n",
    "    def rokon_e(self, masik_karakter):\n",
    "        if self.vezeteknev == masik_karakter.vezeteknev:\n",
    "            return True\n",
    "        else:\n",
    "            return False\n",
    "    \n",
    "    def csalad(self, tobbi_karakter):\n",
    "        lista = []\n",
    "        for karakter in tobbi_karakter:\n",
    "            if self.rokon_e(karakter):\n",
    "                lista.append(karakter)\n",
    "        return lista"
   ]
  },
  {
   "cell_type": "markdown",
   "metadata": {},
   "source": [
    "Ma egy kicsit összetettebb példát nézünk meg: egy ruhaüzlet nyilvántartási rendszerét. Első lépésként meghatározzuk, hogy mire kell képesnek lennie a programnak. Ez a __specifikáció__:"
   ]
  },
  {
   "cell_type": "markdown",
   "metadata": {},
   "source": [
    "### Specifikáció\n",
    "- Szeretnénk tárolni egy üzletben fellelhető összes terméket, és azok egyes tulajdonságait (ár, típus, méret, férfi/női, stb.)\n",
    "- Szeretnénk tudni egyszerű lekérdezéseket futtatni: pl. megkérdezni, hogy egy adott típusú ruhából adott méretben milyenek vannak\n",
    "- Szeretnénk sok termék adatait egyszerre megváltoztatni: pl. leakciózni az összes női felsőt.\n",
    "- ..."
   ]
  },
  {
   "cell_type": "markdown",
   "metadata": {},
   "source": [
    "Mielőtt bármilyen kódot írnánk, megtervezzük, hogy milyen objektumaink lesznek, ezzel majdnem kész i\n",
    "s lesz a program terve. Két típussal (osztállyal) meg fogunk elégedni: az egyik az egyes termékek típusa (Termek), a másik maga az árukészlet (Arukeszlet). Nézzük meg, milyen attribútumokra és függvényekre lesz szükségünk. Ez a program felépítése, vagy más szóval __architektúrája__:"
   ]
  },
  {
   "cell_type": "markdown",
   "metadata": {},
   "source": [
    "### Felépítés\n",
    "- _Termek_ osztály:\n",
    "    - Attribútumok: tárolja egy konkrét termékről az összes tulajdonságát: ár, típus, méret, férfi/női.\n",
    "    - Műveletek: megjelenítés, leárazás (adott százalék), ...\n",
    "- _Keszlet_ osztály:\n",
    "    - Attribútumok: _Termek_ objektumok listáját tárolja\n",
    "    - Műveletek: megjelenítés, termék hozzáadása, lekérdezések (kategóriára, árra, nemre), leárazás"
   ]
  },
  {
   "cell_type": "markdown",
   "metadata": {},
   "source": [
    "Kezdjük azzal, hogy elkészítjük a két osztály vázlatát. (A __pass__ szó azt jelenti, hogy ne történjen semmi, ezt írhatjuk olyan helyekre, aholva kell írni valamit, de még nem tudjuk, mit.)"
   ]
  },
  {
   "cell_type": "code",
   "execution_count": 1,
   "metadata": {
    "collapsed": false
   },
   "outputs": [],
   "source": [
    "class Termek:\n",
    "    def __init__(self, tipus, ar, meret, noi):\n",
    "        #tulajdonságok beállítása\n",
    "        pass\n",
    "    \n",
    "    def __str__(self):\n",
    "        #tulajdonságok kiírása\n",
    "        pass\n",
    "        \n",
    "    def learaz(self, szazalek):\n",
    "        #ár módosítása        \n",
    "        pass\n",
    "    \n",
    "class Keszlet:\n",
    "    def __init__(self):\n",
    "        # üres lista létrehozása\n",
    "        pass\n",
    "    \n",
    "    def __str__(self):\n",
    "        # termékek kiírása\n",
    "        pass\n",
    "    \n",
    "    def hozzaad(self):\n",
    "        #termék hozzáadása\n",
    "        pass\n",
    "    \n",
    "    def learaz(self, szazalek):\n",
    "        pass\n",
    "    \n",
    "    def tipusra_szur(self, tipus):\n",
    "        pass\n",
    "    \n",
    "    def arra_szur(self, minimum, maximum):\n",
    "        pass\n",
    "    \n",
    "    def meretre_szur(self, minimum, maximum):\n",
    "        pass\n",
    "    \n",
    "    def nemre_szur(self, noi):\n",
    "        pass"
   ]
  },
  {
   "cell_type": "markdown",
   "metadata": {},
   "source": [
    "Még nincs kész semmi, de már mindent tudunk arról, hogy hogyan fogjuk tudni használni a programunkat. Például ha adott egy árukészlet, így fogjuk tudni 30 százalékkal leárazni a 36osnál kisebb női cipőket:"
   ]
  },
  {
   "cell_type": "code",
   "execution_count": null,
   "metadata": {
    "collapsed": true
   },
   "outputs": [],
   "source": [
    "# keszlet.tipusra_szur(\"cipo\").meretre_szur(\n",
    "#     0, 35).nemre_szur(True).learaz(30)"
   ]
  },
  {
   "cell_type": "markdown",
   "metadata": {},
   "source": [
    "Készítsük el először mindkét osztálynak az _init_ és _str_ függvényeit - vagyis mindkettőt lehessen létrehozni és kiíratni. Ezenkívül megírjuk még a termeket_hozzaad függvényt is."
   ]
  },
  {
   "cell_type": "code",
   "execution_count": 2,
   "metadata": {
    "collapsed": false
   },
   "outputs": [],
   "source": [
    "class Termek:\n",
    "    def __init__(self, tipus, ar, meret, noi):\n",
    "        #tulajdonságok beállítása\n",
    "        self.tipus = tipus\n",
    "        self.ar = ar\n",
    "        self.meret = meret\n",
    "        self.noi = noi\n",
    "    \n",
    "    def __str__(self):\n",
    "        #tulajdonságok kiírása\n",
    "        if self.noi:\n",
    "            nem = \"Női\"\n",
    "        else:\n",
    "            nem = \"Férfi\"\n",
    "        \n",
    "        kiiras = nem + ' ' + self.tipus + \" (\" + str(self.meret) + '), ' + str(self.ar) + '.- Ft\\n'\n",
    "        return kiiras\n",
    "        \n",
    "    def learaz(self, szazalek):\n",
    "        #ár módosítása        \n",
    "        pass\n",
    "    \n",
    "class Keszlet:\n",
    "    def __init__(self):\n",
    "        # üres lista létrehozása\n",
    "        self.lista = []\n",
    "    \n",
    "    def __str__(self):\n",
    "        # termékek kiírása\n",
    "        kiiras = \"\"\n",
    "        for termek in self.lista:\n",
    "            kiiras += str(termek)\n",
    "            # kiiras += termek.__str__()\n",
    "        return kiiras\n",
    "    \n",
    "    def hozzaad(self, termek):\n",
    "        #termék hozzáadása\n",
    "        self.lista.append(termek)\n",
    "        \n",
    "    def learaz(self, szazalek):\n",
    "        pass\n",
    "    \n",
    "    def tipusra_szur(self, tipus):\n",
    "        pass\n",
    "    \n",
    "    def arra_szur(self, minimum, maximum):\n",
    "        pass\n",
    "    \n",
    "    def meretre_szur(self, minimum, maximum):\n",
    "        pass\n",
    "    \n",
    "    def nemre_szur(self, noi):\n",
    "        pass"
   ]
  },
  {
   "cell_type": "markdown",
   "metadata": {},
   "source": [
    "Próbáljuk ki, készítsünk el néhány terméket és adjuk hozzá a készletünkhöz:"
   ]
  },
  {
   "cell_type": "code",
   "execution_count": 30,
   "metadata": {
    "collapsed": false
   },
   "outputs": [
    {
     "name": "stdout",
     "output_type": "stream",
     "text": [
      "Férfi nadrág (32), 6990.- Ft\n",
      "Női felső (42), 4990.- Ft\n",
      "Női cipő (36), 7990.- Ft\n",
      "Női cipő (38), 7990.- Ft\n",
      "Férfi cipő (42), 6990.- Ft\n",
      "\n"
     ]
    }
   ],
   "source": [
    "keszlet = Keszlet()\n",
    "termek1 = Termek(\"nadrág\", 6990, 32, False) # férfi nadrág, 32-es, 6990 forint\n",
    "termek2 = Termek(\"felső\", 4990, 42, True) # női felső, 38-as, 4990 forint\n",
    "termek3 = Termek(\"cipő\", 7990, 36, True) # női cipő, 37-es, 7990 forint\n",
    "termek4 = Termek(\"cipő\", 7990, 38, True) # női cipő, 37-es, 7990 forint\n",
    "termek5 = Termek(\"cipő\", 6990, 42, False) # női cipő, 37-es, 7990 forint\n",
    "\n",
    "keszlet.hozzaad(termek1)\n",
    "keszlet.hozzaad(termek2)\n",
    "keszlet.hozzaad(termek3)\n",
    "keszlet.hozzaad(termek4)\n",
    "keszlet.hozzaad(termek5)\n",
    "print(keszlet)"
   ]
  },
  {
   "cell_type": "markdown",
   "metadata": {},
   "source": [
    "Ezek után megírhatjuk a leárazás függvényeket:"
   ]
  },
  {
   "cell_type": "code",
   "execution_count": 10,
   "metadata": {
    "collapsed": true
   },
   "outputs": [],
   "source": [
    "class Termek:\n",
    "    def __init__(self, tipus, ar, meret, noi):\n",
    "        #tulajdonságok beállítása\n",
    "        self.tipus = tipus\n",
    "        self.ar = ar\n",
    "        self.meret = meret\n",
    "        self.noi = noi\n",
    "    \n",
    "    def __str__(self):\n",
    "        #tulajdonságok kiírása\n",
    "        if self.noi:\n",
    "            nem = \"Női\"\n",
    "        else:\n",
    "            nem = \"Férfi\"\n",
    "        \n",
    "        kiiras = nem + ' ' + self.tipus + \" (\" + str(self.meret) + '), ' + str(self.ar) + '.- Ft\\n'\n",
    "        return kiiras\n",
    "        \n",
    "    def learaz(self, szazalek):\n",
    "        self.ar = int(self.ar * (100 - szazalek) / 100)\n",
    "    \n",
    "class Keszlet:\n",
    "    def __init__(self):\n",
    "        # üres lista létrehozása\n",
    "        self.lista = []\n",
    "    \n",
    "    def __str__(self):\n",
    "        # termékek kiírása\n",
    "        kiiras = \"\"\n",
    "        for termek in self.lista:\n",
    "            kiiras += str(termek)\n",
    "        return kiiras\n",
    "    \n",
    "    def hozzaad(self, termek):\n",
    "        #termék hozzáadása\n",
    "        self.lista.append(termek)\n",
    "        \n",
    "    def learaz(self, szazalek):\n",
    "        for termek in self.lista:\n",
    "            termek.learaz(szazalek)\n",
    "    \n",
    "    def tipusra_szur(self, tipus):\n",
    "        pass\n",
    "    \n",
    "    def arra_szur(self, minimum, maximum):\n",
    "        pass\n",
    "    \n",
    "    def meretre_szur(self, minimum, maximum):\n",
    "        pass\n",
    "    \n",
    "    def nemre_szur(self, noi):\n",
    "        pass"
   ]
  },
  {
   "cell_type": "markdown",
   "metadata": {},
   "source": [
    "Próbáljuk ki ezt is! Árazzunk le mindent 10 százalékkal!"
   ]
  },
  {
   "cell_type": "code",
   "execution_count": 19,
   "metadata": {
    "collapsed": false
   },
   "outputs": [
    {
     "name": "stdout",
     "output_type": "stream",
     "text": [
      "Férfi nadrág (32), 6990.- Ft\n",
      "Női felső (42), 4990.- Ft\n",
      "Női cipő (36), 7990.- Ft\n",
      "Női cipő (38), 7990.- Ft\n",
      "Férfi cipő (42), 6990.- Ft\n",
      "\n"
     ]
    }
   ],
   "source": [
    "keszlet = Keszlet()\n",
    "termek1 = Termek(\"nadrág\", 6990, 32, False) # férfi nadrág, 32-es, 6990 forint\n",
    "termek2 = Termek(\"felső\", 4990, 42, True) # női felső, 38-as, 4990 forint\n",
    "termek3 = Termek(\"cipő\", 7990, 36, True) # női cipő, 37-es, 7990 forint\n",
    "termek4 = Termek(\"cipő\", 7990, 38, True) # női cipő, 37-es, 7990 forint\n",
    "termek5 = Termek(\"cipő\", 6990, 42, False) # női cipő, 37-es, 7990 forint\n",
    "\n",
    "keszlet.hozzaad(termek1)\n",
    "keszlet.hozzaad(termek2)\n",
    "keszlet.hozzaad(termek3)\n",
    "keszlet.hozzaad(termek4)\n",
    "keszlet.hozzaad(termek5)\n",
    "print(keszlet)"
   ]
  },
  {
   "cell_type": "code",
   "execution_count": 20,
   "metadata": {
    "collapsed": false
   },
   "outputs": [
    {
     "name": "stdout",
     "output_type": "stream",
     "text": [
      "Férfi nadrág (32), 6291.- Ft\n",
      "Női felső (42), 4491.- Ft\n",
      "Női cipő (36), 7191.- Ft\n",
      "Női cipő (38), 7191.- Ft\n",
      "Férfi cipő (42), 6291.- Ft\n",
      "\n"
     ]
    }
   ],
   "source": [
    "keszlet.learaz(10)\n",
    "print(keszlet)"
   ]
  },
  {
   "cell_type": "markdown",
   "metadata": {},
   "source": [
    "Végül írjuk meg a szűréseket:"
   ]
  },
  {
   "cell_type": "code",
   "execution_count": 23,
   "metadata": {
    "collapsed": true
   },
   "outputs": [],
   "source": [
    "class Termek:\n",
    "    def __init__(self, tipus, ar, meret, noi):\n",
    "        #tulajdonságok beállítása\n",
    "        self.tipus = tipus\n",
    "        self.ar = ar\n",
    "        self.meret = meret\n",
    "        self.noi = noi\n",
    "    \n",
    "    def __str__(self):\n",
    "        #tulajdonságok kiírása\n",
    "        if self.noi:\n",
    "            nem = \"Női\"\n",
    "        else:\n",
    "            nem = \"Férfi\"\n",
    "        \n",
    "        kiiras = nem + ' ' + self.tipus + \" (\" + str(self.meret) + '), ' + str(self.ar) + '.- Ft\\n'\n",
    "        return kiiras\n",
    "        \n",
    "    def learaz(self, szazalek):\n",
    "        self.ar = int(self.ar * (100 - szazalek) / 100)\n",
    "    \n",
    "class Keszlet:\n",
    "    def __init__(self):\n",
    "        # üres lista létrehozása\n",
    "        self.lista = []\n",
    "    \n",
    "    def __str__(self):\n",
    "        # termékek kiírása\n",
    "        kiiras = \"\"\n",
    "        for termek in self.lista:\n",
    "            kiiras += str(termek)\n",
    "        return kiiras\n",
    "    \n",
    "    def hozzaad(self, termek):\n",
    "        #termék hozzáadása\n",
    "        self.lista.append(termek)\n",
    "        \n",
    "    def learaz(self, szazalek):\n",
    "        for termek in self.lista:\n",
    "            termek.learaz(szazalek)\n",
    "    \n",
    "    def tipusra_szur(self, tipus):\n",
    "        szurt_keszlet = Keszlet()\n",
    "        for termek in self.lista:\n",
    "            if termek.tipus == tipus:\n",
    "                szurt_keszlet.hozzaad(termek)\n",
    "        return szurt_keszlet\n",
    "    \n",
    "    def arra_szur(self, minimum, maximum):\n",
    "        szurt_keszlet = Keszlet()\n",
    "        for termek in self.lista:\n",
    "            if termek.ar >= minimum and termek.ar <= maximum:\n",
    "                szurt_keszlet.hozzaad(termek)\n",
    "        return szurt_keszlet\n",
    "    \n",
    "    def meretre_szur(self, minimum, maximum):\n",
    "        szurt_keszlet = Keszlet()\n",
    "        for termek in self.lista:\n",
    "            if termek.meret >= minimum and termek.meret <= maximum:\n",
    "                szurt_keszlet.hozzaad(termek)\n",
    "        return szurt_keszlet\n",
    "    \n",
    "    def nemre_szur(self, noi):\n",
    "        szurt_keszlet = Keszlet()\n",
    "        for termek in self.lista:\n",
    "            if termek.noi == noi:\n",
    "                szurt_keszlet.hozzaad(termek)\n",
    "        return szurt_keszlet"
   ]
  },
  {
   "cell_type": "markdown",
   "metadata": {},
   "source": [
    "Próbáljuk ki ezt is! Kérjük le a 38-nál kisebb női cipőket!"
   ]
  },
  {
   "cell_type": "code",
   "execution_count": 24,
   "metadata": {
    "collapsed": false
   },
   "outputs": [
    {
     "name": "stdout",
     "output_type": "stream",
     "text": [
      "Férfi nadrág (32), 6990.- Ft\n",
      "Női felső (42), 4990.- Ft\n",
      "Női cipő (36), 7990.- Ft\n",
      "Női cipő (38), 7990.- Ft\n",
      "Férfi cipő (42), 6990.- Ft\n",
      "\n"
     ]
    }
   ],
   "source": [
    "keszlet = Keszlet()\n",
    "termek1 = Termek(\"nadrág\", 6990, 32, False) # férfi nadrág, 32-es, 6990 forint\n",
    "termek2 = Termek(\"felső\", 4990, 42, True) # női felső, 38-as, 4990 forint\n",
    "termek3 = Termek(\"cipő\", 7990, 36, True) # női cipő, 37-es, 7990 forint\n",
    "termek4 = Termek(\"cipő\", 7990, 38, True) # női cipő, 37-es, 7990 forint\n",
    "termek5 = Termek(\"cipő\", 6990, 42, False) # női cipő, 37-es, 7990 forint\n",
    "\n",
    "keszlet.hozzaad(termek1)\n",
    "keszlet.hozzaad(termek2)\n",
    "keszlet.hozzaad(termek3)\n",
    "keszlet.hozzaad(termek4)\n",
    "keszlet.hozzaad(termek5)\n",
    "print(keszlet)"
   ]
  },
  {
   "cell_type": "code",
   "execution_count": 25,
   "metadata": {
    "collapsed": false
   },
   "outputs": [
    {
     "name": "stdout",
     "output_type": "stream",
     "text": [
      "Női cipő (36), 7990.- Ft\n",
      "Női cipő (38), 7990.- Ft\n",
      "Férfi cipő (42), 6990.- Ft\n",
      "\n"
     ]
    }
   ],
   "source": [
    "print(keszlet.tipusra_szur(\"cipő\")) # az összes cipő"
   ]
  },
  {
   "cell_type": "code",
   "execution_count": 26,
   "metadata": {
    "collapsed": false
   },
   "outputs": [
    {
     "name": "stdout",
     "output_type": "stream",
     "text": [
      "Női cipő (36), 7990.- Ft\n",
      "Női cipő (38), 7990.- Ft\n",
      "\n"
     ]
    }
   ],
   "source": [
    "print(keszlet.tipusra_szur(\"cipő\").nemre_szur(True)) # az összes női cipő"
   ]
  },
  {
   "cell_type": "code",
   "execution_count": 27,
   "metadata": {
    "collapsed": false
   },
   "outputs": [
    {
     "name": "stdout",
     "output_type": "stream",
     "text": [
      "Női cipő (36), 7990.- Ft\n",
      "\n"
     ]
    }
   ],
   "source": [
    "print(keszlet.tipusra_szur(\"cipő\").nemre_szur(True).meretre_szur(0, 37)) # az összes női cipő, ami 38-nál kisebb"
   ]
  },
  {
   "cell_type": "markdown",
   "metadata": {},
   "source": [
    "És végül kipróbálhatjuk az első példánkat: árazzuk le a 37-nél kisebb női cipőket:"
   ]
  },
  {
   "cell_type": "code",
   "execution_count": 28,
   "metadata": {
    "collapsed": false
   },
   "outputs": [],
   "source": [
    "keszlet.tipusra_szur(\"cipő\").meretre_szur(0, 37).nemre_szur(True).learaz(30)"
   ]
  },
  {
   "cell_type": "code",
   "execution_count": 29,
   "metadata": {
    "collapsed": false
   },
   "outputs": [
    {
     "name": "stdout",
     "output_type": "stream",
     "text": [
      "Férfi nadrág (32), 6990.- Ft\n",
      "Női felső (42), 4990.- Ft\n",
      "Női cipő (36), 5593.- Ft\n",
      "Női cipő (38), 7990.- Ft\n",
      "Férfi cipő (42), 6990.- Ft\n",
      "\n"
     ]
    }
   ],
   "source": [
    "print(keszlet)"
   ]
  },
  {
   "cell_type": "markdown",
   "metadata": {
    "collapsed": true
   },
   "source": [
    "__11. FELADAT (Pluszpontért beadható! Határidő: december 7. 08:00):__\n",
    "Módosítsd a Termek és Keszlet osztályokat úgy, hogy a ruhák tulajdonságai közé bekerüljön a szín és a márka, és ezekre is lehessen szűrni. Teszteld, hogy működik-e a megoldás - ehhez használd a lenti kódot!"
   ]
  },
  {
   "cell_type": "code",
   "execution_count": null,
   "metadata": {
    "collapsed": true
   },
   "outputs": [],
   "source": []
  },
  {
   "cell_type": "code",
   "execution_count": null,
   "metadata": {
    "collapsed": false
   },
   "outputs": [],
   "source": [
    "keszlet = Keszlet()\n",
    "termek1 = Termek(\"nadrág\", 6990, 32, False, \"Levis\", \"kék\") # férfi nadrág, 32-es, 6990 forint\n",
    "termek2 = Termek(\"felső\", 4990, 42, True, \"MNG\", \"fekete\") # női felső, 38-as, 4990 forint\n",
    "termek3 = Termek(\"cipő\", 7990, 36, True, \"Adidas\", \"fehér\") # női cipő, 37-es, 7990 forint\n",
    "termek4 = Termek(\"cipő\", 7990, 38, True, \"Tisza\", \"kék\") # női cipő, 37-es, 7990 forint\n",
    "termek5 = Termek(\"cipő\", 6990, 42, False, \"Quechua\", \"szürke\") # férfi cipő, 37-es, 7990 forint\n",
    "\n",
    "keszlet.hozzaad(termek1)\n",
    "keszlet.hozzaad(termek2)\n",
    "keszlet.hozzaad(termek3)\n",
    "keszlet.hozzaad(termek4)\n",
    "keszlet.hozzaad(termek5)\n",
    "print(keszlet)"
   ]
  },
  {
   "cell_type": "code",
   "execution_count": null,
   "metadata": {
    "collapsed": true
   },
   "outputs": [],
   "source": []
  }
 ],
 "metadata": {
  "kernelspec": {
   "display_name": "Python 3",
   "language": "python",
   "name": "python3"
  },
  "language_info": {
   "codemirror_mode": {
    "name": "ipython",
    "version": 3
   },
   "file_extension": ".py",
   "mimetype": "text/x-python",
   "name": "python",
   "nbconvert_exporter": "python",
   "pygments_lexer": "ipython3",
   "version": "3.5.2"
  }
 },
 "nbformat": 4,
 "nbformat_minor": 1
}
