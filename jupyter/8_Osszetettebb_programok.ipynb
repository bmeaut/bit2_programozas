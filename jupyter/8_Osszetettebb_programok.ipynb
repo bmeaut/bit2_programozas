{
 "cells": [
  {
   "cell_type": "markdown",
   "metadata": {},
   "source": [
    "## 8. Összetettebb programok"
   ]
  },
  {
   "cell_type": "markdown",
   "metadata": {},
   "source": [
    "Az elmúlt hetekben megismert eszközök - ciklusok, fájlkezelés - már elegendőek ahhoz, hogy komplex feladatokat is programokkal végezzünk el. Ebben a notebook-ban azt nézzük meg, hogyan tudunk egyszerűbb, általánosabb elemekből felépíteni egy összetettebb programot."
   ]
  },
  {
   "cell_type": "markdown",
   "metadata": {},
   "source": [
    "A következő példákban ismét egy filmes adatbázissal fogunk dolgozni, ebben azonban már sokkal több különböző információ található, pl. hogy hány kritikát írtak a filmről, vagy hogy az egyes színészeknek hány lájkjuk van a facebook-on. A következőkben az alábbi kérdésekre fogunk az adat segítségével választ adni:"
   ]
  },
  {
   "cell_type": "markdown",
   "metadata": {},
   "source": [
    "* Melyik az 5 legjobb film az IMDB pontszám alapján?\n",
    "* Melyik 5 színésznek van a legtöbb lájkja facebook-on?\n",
    "* A legtöbb FB lájkot kapó 10 film szereplői mennyi lájkot kaptak?\n",
    "* A legrosszabb IMDB pontszámú filmek között milyen műfajból van a legtöbb?"
   ]
  },
  {
   "cell_type": "markdown",
   "metadata": {},
   "source": [
    "### Előkészületek"
   ]
  },
  {
   "cell_type": "markdown",
   "metadata": {},
   "source": [
    "Elsőként vizsgáljuk meg az adatot, amivel dolgozni fogunk. A táblázat a \"data/movie_data.csv\" fájlban található, mezőit vesszők választják el, az első sor a fejléc, ebből látszik, hogy melyik oszlop milyen információt tartalmaz. Nézzük meg, milyen oszlopokból áll az adatunk!"
   ]
  },
  {
   "cell_type": "code",
   "execution_count": 9,
   "metadata": {
    "collapsed": true
   },
   "outputs": [],
   "source": [
    "f = open(\"data/movie_data.csv\", 'r', encoding=\"utf-8\")"
   ]
  },
  {
   "cell_type": "code",
   "execution_count": 11,
   "metadata": {
    "collapsed": true
   },
   "outputs": [],
   "source": [
    "header = f.readline().strip().split(',')"
   ]
  },
  {
   "cell_type": "code",
   "execution_count": 12,
   "metadata": {
    "collapsed": false
   },
   "outputs": [
    {
     "name": "stdout",
     "output_type": "stream",
     "text": [
      "['color', 'director_name', 'num_critic_for_reviews', 'duration', 'director_facebook_likes', 'actor_3_facebook_likes', 'actor_2_name', 'actor_1_facebook_likes', 'gross', 'genres', 'actor_1_name', 'movie_title', 'num_voted_users', 'cast_total_facebook_likes', 'actor_3_name', 'facenumber_in_poster', 'plot_keywords', 'movie_imdb_link', 'num_user_for_reviews', 'language', 'country', 'content_rating', 'budget', 'title_year', 'actor_2_facebook_likes', 'imdb_score', 'aspect_ratio', 'movie_facebook_likes']\n"
     ]
    }
   ],
   "source": [
    "print(header)"
   ]
  },
  {
   "cell_type": "markdown",
   "metadata": {},
   "source": [
    "Olvassuk be az adatot úgy, hogy minden _oszlop_ alkosson külön listát, tehát pl. egy listában szerepeljen az összes cím, egy másikban az összes rendező, stb."
   ]
  },
  {
   "cell_type": "code",
   "execution_count": 13,
   "metadata": {
    "collapsed": false
   },
   "outputs": [],
   "source": [
    "def adatot_beolvas(fajlnev):\n",
    "    f = open(fajlnev, 'r', encoding=\"utf-8\")\n",
    "    fejlec = f.readline().strip().split('\\t')\n",
    "    mezok_szama = len(fejlec)\n",
    "    adat = []\n",
    "    for i in range(mezok_szama):\n",
    "        adat.append([])\n",
    "    print('mezok szama:', mezok_szama)\n",
    "    for sor in f:\n",
    "        mezok = sor.strip('\\n').split('\\t')\n",
    "        for i in range(mezok_szama):\n",
    "            adat[i].append(mezok[i].strip())\n",
    "\n",
    "    return adat, fejlec        "
   ]
  },
  {
   "cell_type": "code",
   "execution_count": 14,
   "metadata": {
    "collapsed": false
   },
   "outputs": [
    {
     "name": "stdout",
     "output_type": "stream",
     "text": [
      "mezok szama: 28\n"
     ]
    }
   ],
   "source": [
    "adat, fejlec = adatot_beolvas(\"data/movie_data.tsv\")"
   ]
  },
  {
   "cell_type": "markdown",
   "metadata": {
    "collapsed": true
   },
   "source": [
    "A _fejlec_ listából megtudhatjuk, hogy valamely infó hanyadik oszlopban található. Nézzük meg, az első 5 filmnek a listában ki a főszereplője?"
   ]
  },
  {
   "cell_type": "code",
   "execution_count": 21,
   "metadata": {
    "collapsed": false
   },
   "outputs": [
    {
     "data": {
      "text/plain": [
       "10"
      ]
     },
     "execution_count": 21,
     "metadata": {},
     "output_type": "execute_result"
    }
   ],
   "source": [
    "fejlec.index(\"actor_1_name\")"
   ]
  },
  {
   "cell_type": "code",
   "execution_count": 22,
   "metadata": {
    "collapsed": false
   },
   "outputs": [
    {
     "data": {
      "text/plain": [
       "['CCH Pounder', 'Johnny Depp', 'Christoph Waltz', 'Tom Hardy', 'Doug Walker']"
      ]
     },
     "execution_count": 22,
     "metadata": {},
     "output_type": "execute_result"
    }
   ],
   "source": [
    "adat[10][:5]"
   ]
  },
  {
   "cell_type": "markdown",
   "metadata": {},
   "source": [
    "Először tudni szeretnénk az IMDB pontszám alapján 5 legjobb film címét. Írjunk egy olyan függvényt, ami tetszőleges mező szerint rendezve képes visszaadni az adatot."
   ]
  },
  {
   "cell_type": "code",
   "execution_count": 78,
   "metadata": {
    "collapsed": false
   },
   "outputs": [],
   "source": [
    "def rendez(adat, fejlec, mezo):\n",
    "    adat_meret = len(adat[0])\n",
    "    oszlop_szam = fejlec.index(mezo)\n",
    "    rendezendo = []\n",
    "    ertekek = adat[oszlop_szam]\n",
    "    for i in range(adat_meret):\n",
    "        rendezendo.append([ertekek[i], i])\n",
    "    rendezendo.sort()\n",
    "    rendezendo.reverse()\n",
    "    rendezett_sorszamok = []\n",
    "    for ertek, i in rendezendo:\n",
    "        rendezett_sorszamok.append(i)\n",
    "    return rendezett_sorszamok"
   ]
  },
  {
   "cell_type": "markdown",
   "metadata": {},
   "source": [
    "Ez a függvény egy tetszőleges mező szerint rendezve visszaadja az egyes filmek sorszámait."
   ]
  },
  {
   "cell_type": "code",
   "execution_count": 28,
   "metadata": {
    "collapsed": false
   },
   "outputs": [],
   "source": [
    "pontszam_szerint = rendez(adat, fejlec, \"imdb_score\")"
   ]
  },
  {
   "cell_type": "markdown",
   "metadata": {},
   "source": [
    "Egy második függvényt használunk majd arra, hogy adott sorszámú mezőkből adja vissza egy másik mező értékét:"
   ]
  },
  {
   "cell_type": "code",
   "execution_count": 29,
   "metadata": {
    "collapsed": true
   },
   "outputs": [],
   "source": [
    "def keres(adat, fejlec, sorszamok, mezo):\n",
    "    oszlop_szam = fejlec.index(mezo)\n",
    "    ertekek = []\n",
    "    for i in sorszamok:\n",
    "        ertekek.append(adat[oszlop_szam][i])\n",
    "    return ertekek"
   ]
  },
  {
   "cell_type": "markdown",
   "metadata": {},
   "source": [
    "Írjunk ezek segítségével egy olyan függvényt, ami valamely mező szerint rendezve visszaadja egy másik mező értékeit:"
   ]
  },
  {
   "cell_type": "code",
   "execution_count": 55,
   "metadata": {
    "collapsed": true
   },
   "outputs": [],
   "source": [
    "def elsok(adat, fejlec, kulcs_mezo, ertek_mezo, n):\n",
    "    rendezett_sorszamok = rendez(adat, fejlec, kulcs_mezo)\n",
    "    ertekek = keres(adat, fejlec, rendezett_sorszamok[:n], ertek_mezo)\n",
    "    return ertekek"
   ]
  },
  {
   "cell_type": "markdown",
   "metadata": {},
   "source": [
    "Az első kérdésre a választ ezután az alábbi paranccsal tudjuk lekérni:"
   ]
  },
  {
   "cell_type": "code",
   "execution_count": 52,
   "metadata": {
    "collapsed": false
   },
   "outputs": [
    {
     "data": {
      "text/plain": [
       "['Towering Inferno',\n",
       " 'The Shawshank Redemption',\n",
       " 'The Godfather',\n",
       " 'Kickboxer: Vengeance',\n",
       " 'Dekalog']"
      ]
     },
     "execution_count": 52,
     "metadata": {},
     "output_type": "execute_result"
    }
   ],
   "source": [
    "elsok(adat, fejlec, \"imdb_score\", \"movie_title\", 5)"
   ]
  },
  {
   "cell_type": "markdown",
   "metadata": {},
   "source": [
    "A második kérdésre (\"_Melyik 5 színésznek van a legtöbb lájkja facebook-on?_\") ez a megoldás már nem fog működni:"
   ]
  },
  {
   "cell_type": "code",
   "execution_count": 53,
   "metadata": {
    "collapsed": false
   },
   "outputs": [
    {
     "data": {
      "text/plain": [
       "['Gary Cooper', 'Gary Cooper', 'Sofia Boutella', 'Chris Brown', 'Chris Brown']"
      ]
     },
     "execution_count": 53,
     "metadata": {},
     "output_type": "execute_result"
    }
   ],
   "source": [
    "elsok(adat, fejlec, \"actor_1_facebook_likes\", \"actor_1_name\", 5)"
   ]
  },
  {
   "cell_type": "markdown",
   "metadata": {},
   "source": [
    "Olyan adatra van szükségünk, ami az egyes színészeket listázza a lájkjaik számával:"
   ]
  },
  {
   "cell_type": "code",
   "execution_count": 59,
   "metadata": {
    "collapsed": false
   },
   "outputs": [],
   "source": [
    "def szineszeket_listaz(adat, fejlec):\n",
    "    adat_meret = len(adat[0])\n",
    "    szinesz_oszlop = fejlec.index(\"actor_1_name\")\n",
    "    lajk_oszlop = fejlec.index(\"actor_1_facebook_likes\")\n",
    "    szineszek = []\n",
    "    lajkok = []\n",
    "    for i in range(adat_meret):\n",
    "        szinesz = adat[szinesz_oszlop][i]\n",
    "        if szinesz not in szineszek:\n",
    "            szineszek.append(szinesz)\n",
    "            lajkok.append(adat[lajk_oszlop][i])\n",
    "    return [szineszek, lajkok]"
   ]
  },
  {
   "cell_type": "code",
   "execution_count": 60,
   "metadata": {
    "collapsed": true
   },
   "outputs": [],
   "source": [
    "szineszek = szineszeket_listaz(adat, fejlec)"
   ]
  },
  {
   "cell_type": "code",
   "execution_count": 69,
   "metadata": {
    "collapsed": false
   },
   "outputs": [
    {
     "data": {
      "text/plain": [
       "['CCH Pounder', 'Johnny Depp', 'Christoph Waltz', 'Tom Hardy', 'Doug Walker']"
      ]
     },
     "execution_count": 69,
     "metadata": {},
     "output_type": "execute_result"
    }
   ],
   "source": [
    "szineszek[0][:5]"
   ]
  },
  {
   "cell_type": "markdown",
   "metadata": {},
   "source": [
    "Ha ehhez az adathoz is készítünk fejlécet, akkor már használhatjuk hozzá az _elsok_ függvényünket!"
   ]
  },
  {
   "cell_type": "code",
   "execution_count": 63,
   "metadata": {
    "collapsed": true
   },
   "outputs": [],
   "source": [
    "szinesz_fejlec = [\"actor_1_name\", \"actor_1_facebook_likes\"]"
   ]
  },
  {
   "cell_type": "code",
   "execution_count": 79,
   "metadata": {
    "collapsed": false
   },
   "outputs": [
    {
     "data": {
      "text/plain": [
       "['Gary Cooper',\n",
       " 'Sofia Boutella',\n",
       " 'Chris Brown',\n",
       " 'Bérénice Bejo',\n",
       " 'Hector Elizondo']"
      ]
     },
     "execution_count": 79,
     "metadata": {},
     "output_type": "execute_result"
    }
   ],
   "source": [
    "elsok(szineszek, szinesz_fejlec, \"actor_1_facebook_likes\", \"actor_1_name\", 5)"
   ]
  },
  {
   "cell_type": "markdown",
   "metadata": {},
   "source": [
    "A harmadik feladathoz (_A legtöbb FB lájkot kapó 10 film szereplői mennyi lájkot kaptak?_) először keressük meg a legtöbb lájkot kapott 10 filmet a már meglévő függvényeinkkel:"
   ]
  },
  {
   "cell_type": "code",
   "execution_count": 81,
   "metadata": {
    "collapsed": false
   },
   "outputs": [
    {
     "data": {
      "text/plain": [
       "['The Blood of Heroes',\n",
       " 'Assault on Precinct 13',\n",
       " 'Freedom',\n",
       " 'Roll Bounce',\n",
       " \"Hart's War\",\n",
       " 'L!fe Happens',\n",
       " 'Red Planet',\n",
       " 'The Big Short',\n",
       " 'The Wood',\n",
       " 'Sabrina, the Teenage Witch']"
      ]
     },
     "execution_count": 81,
     "metadata": {},
     "output_type": "execute_result"
    }
   ],
   "source": [
    "elsok(adat, fejlec, \"movie_facebook_likes\", \"movie_title\", 10)"
   ]
  },
  {
   "cell_type": "markdown",
   "metadata": {},
   "source": [
    "Ezután írjunk egy olyan függvényt, ami adott értékeket keres egy-egy oszlopban és összegyűjti egy másik oszlopból a hozzá tartozó más adatokat. A _keres_ függvényt újra fogjuk tudni hasznosítani:"
   ]
  },
  {
   "cell_type": "code",
   "execution_count": 83,
   "metadata": {
    "collapsed": false
   },
   "outputs": [],
   "source": [
    "def ertekhez_keres(adat, fejlec, kulcs_mezo, kulcsok, ertek_mezo):\n",
    "    kulcs_oszlop = adat[fejlec.index(kulcs_mezo)]\n",
    "    sorszamok = []\n",
    "    for kulcs in kulcsok:\n",
    "        sorszam = kulcs_oszlop.index(kulcs)\n",
    "        sorszamok.append(sorszam)\n",
    "    \n",
    "    ertekek = keres(adat, fejlec, sorszamok, ertek_mezo)\n",
    "    return ertekek"
   ]
  },
  {
   "cell_type": "code",
   "execution_count": 85,
   "metadata": {
    "collapsed": true
   },
   "outputs": [],
   "source": [
    "top_lajkolt_filmek = elsok(adat, fejlec, \"movie_facebook_likes\", \"movie_title\", 10)"
   ]
  },
  {
   "cell_type": "code",
   "execution_count": 86,
   "metadata": {
    "collapsed": false
   },
   "outputs": [
    {
     "data": {
      "text/plain": [
       "['1526', '3148', '994', '7552', '15916', '2924', '2', '57308', '2724', '2433']"
      ]
     },
     "execution_count": 86,
     "metadata": {},
     "output_type": "execute_result"
    }
   ],
   "source": [
    "ertekhez_keres(adat, fejlec, \"movie_title\", top_lajkolt_filmek, \"cast_total_facebook_likes\")"
   ]
  },
  {
   "cell_type": "markdown",
   "metadata": {},
   "source": [
    "És ha kiváncsiak vagyunk, hogy milyen színészek hozták ezt össze, azt is könnyen megnézhetjük:"
   ]
  },
  {
   "cell_type": "code",
   "execution_count": 87,
   "metadata": {
    "collapsed": false
   },
   "outputs": [
    {
     "data": {
      "text/plain": [
       "['Delroy Lindo',\n",
       " 'Brian Dennehy',\n",
       " 'Sharon Leal',\n",
       " 'Jurnee Smollett-Bell',\n",
       " 'Bruce Willis',\n",
       " 'Justin Kirk',\n",
       " 'Bob Neill',\n",
       " 'Ryan Gosling',\n",
       " 'Omar Epps',\n",
       " 'Nate Richert']"
      ]
     },
     "execution_count": 87,
     "metadata": {},
     "output_type": "execute_result"
    }
   ],
   "source": [
    "ertekhez_keres(adat, fejlec, \"movie_title\", top_lajkolt_filmek, \"actor_1_name\")"
   ]
  },
  {
   "cell_type": "code",
   "execution_count": 88,
   "metadata": {
    "collapsed": false
   },
   "outputs": [
    {
     "data": {
      "text/plain": [
       "['Joan Chen',\n",
       " 'Drea de Matteo',\n",
       " 'David Rasche',\n",
       " 'Brandon T. Jackson',\n",
       " 'Cole Hauser',\n",
       " 'Geoff Stults',\n",
       " 'Val Kilmer',\n",
       " 'Christian Bale',\n",
       " 'Tamala Jones',\n",
       " 'Soleil Moon Frye']"
      ]
     },
     "execution_count": 88,
     "metadata": {},
     "output_type": "execute_result"
    }
   ],
   "source": [
    "ertekhez_keres(adat, fejlec, \"movie_title\", top_lajkolt_filmek, \"actor_2_name\")"
   ]
  },
  {
   "cell_type": "code",
   "execution_count": 89,
   "metadata": {
    "collapsed": false
   },
   "outputs": [
    {
     "data": {
      "text/plain": [
       "['Anna Katarina',\n",
       " 'Hugh Dillon',\n",
       " 'Bart Shatto',\n",
       " 'Shad Moss',\n",
       " 'Rory Cochrane',\n",
       " 'Kristen Johnston',\n",
       " 'Tom Sizemore',\n",
       " 'Charlie Talbert',\n",
       " 'Richard T. Jones',\n",
       " 'Caroline Rhea']"
      ]
     },
     "execution_count": 89,
     "metadata": {},
     "output_type": "execute_result"
    }
   ],
   "source": [
    "ertekhez_keres(adat, fejlec, \"movie_title\", top_lajkolt_filmek, \"actor_3_name\")"
   ]
  },
  {
   "cell_type": "markdown",
   "metadata": {},
   "source": [
    "__8.1. FELADAT__ Írj olyan függvényt, ami egy megadott mező értékeit átlagolja! Átlagosan hány lájkot kapott egy film a Facebook-on?"
   ]
  },
  {
   "cell_type": "code",
   "execution_count": null,
   "metadata": {
    "collapsed": true
   },
   "outputs": [],
   "source": []
  },
  {
   "cell_type": "markdown",
   "metadata": {},
   "source": [
    "__8.2. FELADAT__ Az IMDB pontszám alapján 100 legjobb film átlagosan hány lájkot kapott?"
   ]
  },
  {
   "cell_type": "code",
   "execution_count": null,
   "metadata": {
    "collapsed": true
   },
   "outputs": [],
   "source": []
  },
  {
   "cell_type": "markdown",
   "metadata": {},
   "source": [
    "__8.3. FELADAT__ Módosítsd az _elsok_ függvényt úgy, hogy ha n negatív, akkor a sorszámokat a lista végéről vegye, vagyis az elsők helyett az utolsókat listázza! Az IMDB pontszám alapján 100 legrosszabb film átlagosan hány lájkot kapott?"
   ]
  },
  {
   "cell_type": "code",
   "execution_count": null,
   "metadata": {
    "collapsed": true
   },
   "outputs": [],
   "source": []
  },
  {
   "cell_type": "markdown",
   "metadata": {},
   "source": [
    "__8.4. FELADAT (Pluszpontokért beadható! Határidő: 2016. november 9. 08:00)__ A 100 legrosszabb IMDB pontszámú film között milyen műfajból van a legtöbb?"
   ]
  },
  {
   "cell_type": "code",
   "execution_count": null,
   "metadata": {
    "collapsed": true
   },
   "outputs": [],
   "source": []
  }
 ],
 "metadata": {
  "kernelspec": {
   "display_name": "Python 3",
   "language": "python",
   "name": "python3"
  },
  "language_info": {
   "codemirror_mode": {
    "name": "ipython",
    "version": 3
   },
   "file_extension": ".py",
   "mimetype": "text/x-python",
   "name": "python",
   "nbconvert_exporter": "python",
   "pygments_lexer": "ipython3",
   "version": "3.5.2"
  }
 },
 "nbformat": 4,
 "nbformat_minor": 1
}
